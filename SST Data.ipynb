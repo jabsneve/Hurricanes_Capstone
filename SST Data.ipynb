{
 "cells": [
  {
   "cell_type": "code",
   "execution_count": 11,
   "metadata": {},
   "outputs": [],
   "source": [
    "import xarray\n",
    "import numpy as np\n",
    "import pandas as pd\n",
    "import pandas_profiling\n",
    "from pandas_profiling import ProfileReport"
   ]
  },
  {
   "cell_type": "code",
   "execution_count": null,
   "metadata": {},
   "outputs": [],
   "source": [
    "# template for running ProfileReport\n",
    "\n",
    "#prof = ProfileReport(dataframe)\n",
    "#prof.to_file(output_file='output.html')"
   ]
  },
  {
   "cell_type": "code",
   "execution_count": 12,
   "metadata": {},
   "outputs": [],
   "source": [
    "# convert all netCDF4 data to dataframe\n",
    "# daily sea surface temperature from 2004 to 2020 for the northen Atlantic Ocean and Gulf of Mexico\n",
    "\n",
    "sst = xarray.open_mfdataset('*.nc4').to_dataframe()"
   ]
  },
  {
   "cell_type": "code",
   "execution_count": null,
   "metadata": {},
   "outputs": [],
   "source": [
    "sst.info()"
   ]
  },
  {
   "cell_type": "code",
   "execution_count": null,
   "metadata": {},
   "outputs": [],
   "source": [
    "sst.head()"
   ]
  },
  {
   "cell_type": "code",
   "execution_count": 13,
   "metadata": {},
   "outputs": [],
   "source": [
    "# define function to complete the three actions above\n",
    "\n",
    "idx = pd.IndexSlice\n",
    "long_range = list(range(254,355))\n",
    "\n",
    "def clean_sst(data):\n",
    "    data = data.droplevel(1)\n",
    "    data = data.loc[7.0:49.0]\n",
    "    data = data.loc[:,(long_range),:]\n",
    "    data = data.reset_index()\n",
    "    return data"
   ]
  },
  {
   "cell_type": "code",
   "execution_count": 14,
   "metadata": {},
   "outputs": [
    {
     "data": {
      "text/html": [
       "<div>\n",
       "<style scoped>\n",
       "    .dataframe tbody tr th:only-of-type {\n",
       "        vertical-align: middle;\n",
       "    }\n",
       "\n",
       "    .dataframe tbody tr th {\n",
       "        vertical-align: top;\n",
       "    }\n",
       "\n",
       "    .dataframe thead th {\n",
       "        text-align: right;\n",
       "    }\n",
       "</style>\n",
       "<table border=\"1\" class=\"dataframe\">\n",
       "  <thead>\n",
       "    <tr style=\"text-align: right;\">\n",
       "      <th></th>\n",
       "      <th>lat</th>\n",
       "      <th>lon</th>\n",
       "      <th>time</th>\n",
       "      <th>sst</th>\n",
       "    </tr>\n",
       "  </thead>\n",
       "  <tbody>\n",
       "    <tr>\n",
       "      <th>0</th>\n",
       "      <td>8.0</td>\n",
       "      <td>254.0</td>\n",
       "      <td>2004-01-01</td>\n",
       "      <td>27.573589</td>\n",
       "    </tr>\n",
       "    <tr>\n",
       "      <th>1</th>\n",
       "      <td>8.0</td>\n",
       "      <td>254.0</td>\n",
       "      <td>2004-02-01</td>\n",
       "      <td>27.663248</td>\n",
       "    </tr>\n",
       "    <tr>\n",
       "      <th>2</th>\n",
       "      <td>8.0</td>\n",
       "      <td>254.0</td>\n",
       "      <td>2004-03-01</td>\n",
       "      <td>28.363892</td>\n",
       "    </tr>\n",
       "    <tr>\n",
       "      <th>3</th>\n",
       "      <td>8.0</td>\n",
       "      <td>254.0</td>\n",
       "      <td>2004-04-01</td>\n",
       "      <td>28.908352</td>\n",
       "    </tr>\n",
       "    <tr>\n",
       "      <th>4</th>\n",
       "      <td>8.0</td>\n",
       "      <td>254.0</td>\n",
       "      <td>2004-05-01</td>\n",
       "      <td>28.942772</td>\n",
       "    </tr>\n",
       "  </tbody>\n",
       "</table>\n",
       "</div>"
      ],
      "text/plain": [
       "   lat    lon       time        sst\n",
       "0  8.0  254.0 2004-01-01  27.573589\n",
       "1  8.0  254.0 2004-02-01  27.663248\n",
       "2  8.0  254.0 2004-03-01  28.363892\n",
       "3  8.0  254.0 2004-04-01  28.908352\n",
       "4  8.0  254.0 2004-05-01  28.942772"
      ]
     },
     "execution_count": 14,
     "metadata": {},
     "output_type": "execute_result"
    }
   ],
   "source": [
    "sst = clean_sst(sst)\n",
    "sst.head()"
   ]
  },
  {
   "cell_type": "code",
   "execution_count": 5,
   "metadata": {},
   "outputs": [
    {
     "data": {
      "text/plain": [
       "array([ 8., 10., 12., 14., 16., 18., 20., 22., 24., 26., 28., 30., 32.,\n",
       "       34., 36., 38., 40., 42., 44., 46., 48.])"
      ]
     },
     "execution_count": 5,
     "metadata": {},
     "output_type": "execute_result"
    }
   ],
   "source": [
    "sst['lat'].unique()"
   ]
  },
  {
   "cell_type": "code",
   "execution_count": 6,
   "metadata": {},
   "outputs": [
    {
     "data": {
      "text/plain": [
       "array([254., 256., 258., 260., 262., 264., 266., 268., 270., 272., 274.,\n",
       "       276., 278., 280., 282., 284., 286., 288., 290., 292., 294., 296.,\n",
       "       298., 300., 302., 304., 306., 308., 310., 312., 314., 316., 318.,\n",
       "       320., 322., 324., 326., 328., 330., 332., 334., 336., 338., 340.,\n",
       "       342., 344., 346., 348., 350., 352., 354.])"
      ]
     },
     "execution_count": 6,
     "metadata": {},
     "output_type": "execute_result"
    }
   ],
   "source": [
    "sst['lon'].unique()"
   ]
  },
  {
   "cell_type": "code",
   "execution_count": null,
   "metadata": {},
   "outputs": [],
   "source": [
    "sst.info()"
   ]
  },
  {
   "cell_type": "code",
   "execution_count": null,
   "metadata": {},
   "outputs": [],
   "source": []
  }
 ],
 "metadata": {
  "kernelspec": {
   "display_name": "Python 3",
   "language": "python",
   "name": "python3"
  },
  "language_info": {
   "codemirror_mode": {
    "name": "ipython",
    "version": 3
   },
   "file_extension": ".py",
   "mimetype": "text/x-python",
   "name": "python",
   "nbconvert_exporter": "python",
   "pygments_lexer": "ipython3",
   "version": "3.7.6"
  }
 },
 "nbformat": 4,
 "nbformat_minor": 4
}
