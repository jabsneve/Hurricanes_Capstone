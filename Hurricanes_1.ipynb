{
 "cells": [
  {
   "cell_type": "code",
   "execution_count": 48,
   "metadata": {},
   "outputs": [],
   "source": [
    "# import necessary packages\n",
    "\n",
    "import pandas as pd\n",
    "import matplotlib.pyplot as plt\n",
    "%matplotlib inline\n",
    "import seaborn as sns\n",
    "sns.set()\n",
    "sns.set_style('whitegrid')\n",
    "from datetime import datetime as dt\n",
    "import numpy as np\n",
    "import pandas_profiling\n",
    "from pandas_profiling import ProfileReport\n",
    "import math\n",
    "import xarray"
   ]
  },
  {
   "cell_type": "code",
   "execution_count": 2,
   "metadata": {},
   "outputs": [],
   "source": [
    "# import hurricane data from csv\n",
    "\n",
    "hurdat = pd.read_csv(r\"C:/Users/jacks/Documents/Springboard/hurricanes_capstone/HURDAT2 Data.csv\")"
   ]
  },
  {
   "cell_type": "code",
   "execution_count": 3,
   "metadata": {},
   "outputs": [
    {
     "data": {
      "text/html": [
       "<div>\n",
       "<style scoped>\n",
       "    .dataframe tbody tr th:only-of-type {\n",
       "        vertical-align: middle;\n",
       "    }\n",
       "\n",
       "    .dataframe tbody tr th {\n",
       "        vertical-align: top;\n",
       "    }\n",
       "\n",
       "    .dataframe thead th {\n",
       "        text-align: right;\n",
       "    }\n",
       "</style>\n",
       "<table border=\"1\" class=\"dataframe\">\n",
       "  <thead>\n",
       "    <tr style=\"text-align: right;\">\n",
       "      <th></th>\n",
       "      <th>Name</th>\n",
       "      <th>Date</th>\n",
       "      <th>Time</th>\n",
       "      <th>Status</th>\n",
       "      <th>Lat</th>\n",
       "      <th>Long</th>\n",
       "      <th>Maximum sustained wind</th>\n",
       "      <th>Minimum Pressure</th>\n",
       "      <th>34 kt radii NE</th>\n",
       "      <th>34 kt radii SE</th>\n",
       "      <th>...</th>\n",
       "      <th>50 kt radii SW</th>\n",
       "      <th>50 kt radii NW</th>\n",
       "      <th>64 kt radii NE</th>\n",
       "      <th>64 kt radii SE</th>\n",
       "      <th>64 kt radii SW</th>\n",
       "      <th>64 kt radii NW</th>\n",
       "      <th>87 kt radii NE (est)</th>\n",
       "      <th>87 kt radii SE (est)</th>\n",
       "      <th>87 kt radii SW (est)</th>\n",
       "      <th>87 kt radii NW (est)</th>\n",
       "    </tr>\n",
       "  </thead>\n",
       "  <tbody>\n",
       "    <tr>\n",
       "      <th>0</th>\n",
       "      <td>Alex</td>\n",
       "      <td>NaN</td>\n",
       "      <td>NaN</td>\n",
       "      <td>NaN</td>\n",
       "      <td>NaN</td>\n",
       "      <td>NaN</td>\n",
       "      <td>NaN</td>\n",
       "      <td>NaN</td>\n",
       "      <td>NaN</td>\n",
       "      <td>NaN</td>\n",
       "      <td>...</td>\n",
       "      <td>NaN</td>\n",
       "      <td>NaN</td>\n",
       "      <td>NaN</td>\n",
       "      <td>NaN</td>\n",
       "      <td>NaN</td>\n",
       "      <td>NaN</td>\n",
       "      <td>NaN</td>\n",
       "      <td>NaN</td>\n",
       "      <td>NaN</td>\n",
       "      <td>NaN</td>\n",
       "    </tr>\n",
       "    <tr>\n",
       "      <th>1</th>\n",
       "      <td>FALSE</td>\n",
       "      <td>20040731</td>\n",
       "      <td>1800</td>\n",
       "      <td>TD</td>\n",
       "      <td>30.3N</td>\n",
       "      <td>78.3W</td>\n",
       "      <td>25.0</td>\n",
       "      <td>1010.0</td>\n",
       "      <td>0.0</td>\n",
       "      <td>0.0</td>\n",
       "      <td>...</td>\n",
       "      <td>0.0</td>\n",
       "      <td>0.0</td>\n",
       "      <td>0.0</td>\n",
       "      <td>0.0</td>\n",
       "      <td>0.0</td>\n",
       "      <td>0.0</td>\n",
       "      <td>0.0</td>\n",
       "      <td>0.0</td>\n",
       "      <td>0.0</td>\n",
       "      <td>0.0</td>\n",
       "    </tr>\n",
       "    <tr>\n",
       "      <th>2</th>\n",
       "      <td>FALSE</td>\n",
       "      <td>20040801</td>\n",
       "      <td>0</td>\n",
       "      <td>TD</td>\n",
       "      <td>31.0N</td>\n",
       "      <td>78.8W</td>\n",
       "      <td>25.0</td>\n",
       "      <td>1009.0</td>\n",
       "      <td>0.0</td>\n",
       "      <td>0.0</td>\n",
       "      <td>...</td>\n",
       "      <td>0.0</td>\n",
       "      <td>0.0</td>\n",
       "      <td>0.0</td>\n",
       "      <td>0.0</td>\n",
       "      <td>0.0</td>\n",
       "      <td>0.0</td>\n",
       "      <td>0.0</td>\n",
       "      <td>0.0</td>\n",
       "      <td>0.0</td>\n",
       "      <td>0.0</td>\n",
       "    </tr>\n",
       "    <tr>\n",
       "      <th>3</th>\n",
       "      <td>FALSE</td>\n",
       "      <td>20040801</td>\n",
       "      <td>600</td>\n",
       "      <td>TD</td>\n",
       "      <td>31.5N</td>\n",
       "      <td>79.0W</td>\n",
       "      <td>25.0</td>\n",
       "      <td>1009.0</td>\n",
       "      <td>0.0</td>\n",
       "      <td>0.0</td>\n",
       "      <td>...</td>\n",
       "      <td>0.0</td>\n",
       "      <td>0.0</td>\n",
       "      <td>0.0</td>\n",
       "      <td>0.0</td>\n",
       "      <td>0.0</td>\n",
       "      <td>0.0</td>\n",
       "      <td>0.0</td>\n",
       "      <td>0.0</td>\n",
       "      <td>0.0</td>\n",
       "      <td>0.0</td>\n",
       "    </tr>\n",
       "    <tr>\n",
       "      <th>4</th>\n",
       "      <td>FALSE</td>\n",
       "      <td>20040801</td>\n",
       "      <td>1200</td>\n",
       "      <td>TD</td>\n",
       "      <td>31.6N</td>\n",
       "      <td>79.1W</td>\n",
       "      <td>30.0</td>\n",
       "      <td>1009.0</td>\n",
       "      <td>0.0</td>\n",
       "      <td>0.0</td>\n",
       "      <td>...</td>\n",
       "      <td>0.0</td>\n",
       "      <td>0.0</td>\n",
       "      <td>0.0</td>\n",
       "      <td>0.0</td>\n",
       "      <td>0.0</td>\n",
       "      <td>0.0</td>\n",
       "      <td>0.0</td>\n",
       "      <td>0.0</td>\n",
       "      <td>0.0</td>\n",
       "      <td>0.0</td>\n",
       "    </tr>\n",
       "  </tbody>\n",
       "</table>\n",
       "<p>5 rows × 24 columns</p>\n",
       "</div>"
      ],
      "text/plain": [
       "    Name      Date  Time Status     Lat     Long  Maximum sustained wind  \\\n",
       "0   Alex       NaN   NaN    NaN     NaN      NaN                     NaN   \n",
       "1  FALSE  20040731  1800     TD   30.3N    78.3W                    25.0   \n",
       "2  FALSE  20040801     0     TD   31.0N    78.8W                    25.0   \n",
       "3  FALSE  20040801   600     TD   31.5N    79.0W                    25.0   \n",
       "4  FALSE  20040801  1200     TD   31.6N    79.1W                    30.0   \n",
       "\n",
       "   Minimum Pressure  34 kt radii NE  34 kt radii SE  ...  50 kt radii SW  \\\n",
       "0               NaN             NaN             NaN  ...             NaN   \n",
       "1            1010.0             0.0             0.0  ...             0.0   \n",
       "2            1009.0             0.0             0.0  ...             0.0   \n",
       "3            1009.0             0.0             0.0  ...             0.0   \n",
       "4            1009.0             0.0             0.0  ...             0.0   \n",
       "\n",
       "   50 kt radii NW  64 kt radii NE  64 kt radii SE  64 kt radii SW  \\\n",
       "0             NaN             NaN             NaN             NaN   \n",
       "1             0.0             0.0             0.0             0.0   \n",
       "2             0.0             0.0             0.0             0.0   \n",
       "3             0.0             0.0             0.0             0.0   \n",
       "4             0.0             0.0             0.0             0.0   \n",
       "\n",
       "   64 kt radii NW  87 kt radii NE (est)  87 kt radii SE (est)  \\\n",
       "0             NaN                   NaN                   NaN   \n",
       "1             0.0                   0.0                   0.0   \n",
       "2             0.0                   0.0                   0.0   \n",
       "3             0.0                   0.0                   0.0   \n",
       "4             0.0                   0.0                   0.0   \n",
       "\n",
       "   87 kt radii SW (est)  87 kt radii NW (est)  \n",
       "0                   NaN                   NaN  \n",
       "1                   0.0                   0.0  \n",
       "2                   0.0                   0.0  \n",
       "3                   0.0                   0.0  \n",
       "4                   0.0                   0.0  \n",
       "\n",
       "[5 rows x 24 columns]"
      ]
     },
     "execution_count": 3,
     "metadata": {},
     "output_type": "execute_result"
    }
   ],
   "source": [
    "hurdat.head()"
   ]
  },
  {
   "cell_type": "code",
   "execution_count": 4,
   "metadata": {},
   "outputs": [],
   "source": [
    "# fix date column\n",
    "\n",
    "hurdat['Date'] = pd.to_datetime(hurdat['Date'],errors='coerce',yearfirst=False)"
   ]
  },
  {
   "cell_type": "code",
   "execution_count": 5,
   "metadata": {},
   "outputs": [],
   "source": [
    "# fix the name column\n",
    "# remove whitespace and capitalize the first letter of each name\n",
    "\n",
    "name_col = [name.title() for name in list(hurdat['Name'].str.lstrip())]\n",
    "\n",
    "# create a list of names called 'new_names'\n",
    "# make each 'FALSE' the preceeding name until the next name\n",
    "\n",
    "new_names = []\n",
    "name = ''\n",
    "\n",
    "for x in name_col:\n",
    "    if x != 'False':\n",
    "        new_names.append(x)\n",
    "        name = x\n",
    "    else:\n",
    "        new_names.append(name)\n",
    "        \n",
    "# add Storm Names column\n",
    "\n",
    "hurdat['Storm_Name'] = new_names\n",
    "\n",
    "# remove the Name column\n",
    "\n",
    "hurdat.drop('Name',axis=1,inplace=True)"
   ]
  },
  {
   "cell_type": "code",
   "execution_count": 6,
   "metadata": {},
   "outputs": [],
   "source": [
    "# remove rows with excessive NaN values\n",
    "# without doing this I am unable to change the Year datatype\n",
    "\n",
    "hurdat.dropna(axis=0,thresh=10,inplace=True)"
   ]
  },
  {
   "cell_type": "code",
   "execution_count": 7,
   "metadata": {},
   "outputs": [],
   "source": [
    "# extract year from date column and create Year column as int datatype\n",
    "\n",
    "hurdat['Year'] = pd.array([i.year for i in hurdat.Date], dtype='int')"
   ]
  },
  {
   "cell_type": "code",
   "execution_count": 8,
   "metadata": {},
   "outputs": [],
   "source": [
    "# rearrange the columns\n",
    "\n",
    "hurdat = hurdat.reindex(columns = ['Year','Storm_Name','Time','Date','Status','Lat','Long','Maximum sustained wind','Minimum Pressure','34 kt radii NE','34 kt radii SE','34 kt radii SW','34 kt radii NW','50 kt radii NE','50 kt radii SE','50 kt radii SW','50 kt radii NW','64 kt radii NE','64 kt radii SE','64 kt radii SW','64 kt radii NW','87 kt radii NE (est)','87 kt radii SE (est)','87 kt radii SW (est)','87 kt radii NW (est)'])"
   ]
  },
  {
   "cell_type": "code",
   "execution_count": 9,
   "metadata": {},
   "outputs": [],
   "source": [
    "# set Year to index\n",
    "\n",
    "hurdat = hurdat.set_index(['Year'])"
   ]
  },
  {
   "cell_type": "code",
   "execution_count": 10,
   "metadata": {},
   "outputs": [],
   "source": [
    "# change column names to names easier to work with\n",
    "\n",
    "hurdat.columns = ['Storm_Name','Time','Date', 'Status', 'Lat', 'Long', 'Max_Wind',\n",
    "       'Min_Pressure', 'ne_34_kt', 'se_34_kt',\n",
    "       'sw_34_kt', 'nw_34_kt', 'ne_50_kt', 'se_50_kt',\n",
    "       'sw_50_kt', 'nw_50_kt', 'ne_64_kt', 'se_64_kt',\n",
    "       'sw_64_kt', 'nw_64_kt', 'ne_87_kt', 'se_87_kt',\n",
    "       'sw_87_kt', 'nw_87_kt']"
   ]
  },
  {
   "cell_type": "markdown",
   "metadata": {},
   "source": [
    "## Clean each radii and calculate the wind field (diameter) of each wind range"
   ]
  },
  {
   "cell_type": "code",
   "execution_count": 11,
   "metadata": {},
   "outputs": [],
   "source": [
    "# remove negative values from the radii\n",
    "\n",
    "hurdat['ne_34_kt'].clip(lower=0, inplace=True)\n",
    "hurdat['se_34_kt'].clip(lower=0, inplace=True)\n",
    "hurdat['sw_34_kt'].clip(lower=0, inplace=True)\n",
    "hurdat['nw_34_kt'].clip(lower=0, inplace=True)\n",
    "hurdat['ne_50_kt'].clip(lower=0, inplace=True)\n",
    "hurdat['se_50_kt'].clip(lower=0, inplace=True)\n",
    "hurdat['sw_50_kt'].clip(lower=0, inplace=True)\n",
    "hurdat['nw_50_kt'].clip(lower=0, inplace=True)\n",
    "hurdat['ne_64_kt'].clip(lower=0, inplace=True)\n",
    "hurdat['se_64_kt'].clip(lower=0, inplace=True)\n",
    "hurdat['sw_64_kt'].clip(lower=0, inplace=True)\n",
    "hurdat['nw_64_kt'].clip(lower=0, inplace=True)\n",
    "hurdat['ne_87_kt'].clip(lower=0, inplace=True)\n",
    "hurdat['se_87_kt'].clip(lower=0, inplace=True)\n",
    "hurdat['sw_87_kt'].clip(lower=0, inplace=True)\n",
    "hurdat['nw_87_kt'].clip(lower=0, inplace=True)"
   ]
  },
  {
   "cell_type": "code",
   "execution_count": 12,
   "metadata": {},
   "outputs": [],
   "source": [
    "# caluculate effective radius for each wind threshold\n",
    "# eff_rad_* function calculates the Effective Radius for the 4 wind thresholds\n",
    "# the value output is in nautical miles\n",
    "\n",
    "def eff_rad_34(x):\n",
    "    if x['Max_Wind']>=34:\n",
    "        num = (0.5*(math.sqrt((x['ne_34_kt']**2) + (x['se_34_kt']**2) + (x['sw_34_kt']**2) + (x['nw_34_kt']**2))))\n",
    "        return round(num,2)\n",
    "\n",
    "def eff_rad_50(x):\n",
    "    if x['Max_Wind']>=50:\n",
    "        num = (0.5*(math.sqrt((x['ne_50_kt']**2) + (x['se_50_kt']**2) + (x['sw_50_kt']**2) + (x['nw_50_kt']**2))))\n",
    "        return round(num,2)\n",
    "\n",
    "def eff_rad_64(x):\n",
    "    if x['Max_Wind']>=64:\n",
    "        num = (0.5*(math.sqrt((x['ne_64_kt']**2) + (x['se_64_kt']**2) + (x['sw_64_kt']**2) + (x['nw_64_kt']**2))))\n",
    "        return round(num,2)\n",
    "    \n",
    "def eff_rad_87(x):\n",
    "    if x['Max_Wind']>=87:\n",
    "        num = (0.5*(math.sqrt((x['ne_87_kt']**2) + (x['se_87_kt']**2) + (x['sw_87_kt']**2) + (x['nw_87_kt']**2))))\n",
    "        return round(num,2)"
   ]
  },
  {
   "cell_type": "code",
   "execution_count": 13,
   "metadata": {},
   "outputs": [],
   "source": [
    "# use .apply function to create new columns\n",
    "\n",
    "hurdat['34kt Wind Field']=hurdat.apply(eff_rad_34, axis=1)\n",
    "hurdat['50kt Wind Field']=hurdat.apply(eff_rad_50, axis=1)\n",
    "hurdat['64kt Wind Field']=hurdat.apply(eff_rad_64, axis=1)\n",
    "hurdat['87kt Wind Field']=hurdat.apply(eff_rad_87, axis=1)"
   ]
  },
  {
   "cell_type": "code",
   "execution_count": 14,
   "metadata": {},
   "outputs": [],
   "source": [
    "# change NaN values in eff_rad_* columns to 0.0\n",
    "\n",
    "hurdat['34kt Wind Field']=hurdat['34kt Wind Field'].fillna(0.0)\n",
    "hurdat['50kt Wind Field']=hurdat['50kt Wind Field'].fillna(0.0)\n",
    "hurdat['64kt Wind Field']=hurdat['64kt Wind Field'].fillna(0.0)\n",
    "hurdat['87kt Wind Field']=hurdat['87kt Wind Field'].fillna(0.0)"
   ]
  },
  {
   "cell_type": "code",
   "execution_count": 16,
   "metadata": {},
   "outputs": [],
   "source": [
    "# drop the wind radii columns\n",
    "\n",
    "hsi = hurdat.drop(hurdat.columns[8:24], axis=1)"
   ]
  },
  {
   "cell_type": "code",
   "execution_count": 17,
   "metadata": {},
   "outputs": [
    {
     "data": {
      "text/html": [
       "<div>\n",
       "<style scoped>\n",
       "    .dataframe tbody tr th:only-of-type {\n",
       "        vertical-align: middle;\n",
       "    }\n",
       "\n",
       "    .dataframe tbody tr th {\n",
       "        vertical-align: top;\n",
       "    }\n",
       "\n",
       "    .dataframe thead th {\n",
       "        text-align: right;\n",
       "    }\n",
       "</style>\n",
       "<table border=\"1\" class=\"dataframe\">\n",
       "  <thead>\n",
       "    <tr style=\"text-align: right;\">\n",
       "      <th></th>\n",
       "      <th>Storm_Name</th>\n",
       "      <th>Time</th>\n",
       "      <th>Date</th>\n",
       "      <th>Status</th>\n",
       "      <th>Lat</th>\n",
       "      <th>Long</th>\n",
       "      <th>Max_Wind</th>\n",
       "      <th>Min_Pressure</th>\n",
       "      <th>34kt Wind Field</th>\n",
       "      <th>50kt Wind Field</th>\n",
       "      <th>64kt Wind Field</th>\n",
       "      <th>87kt Wind Field</th>\n",
       "    </tr>\n",
       "    <tr>\n",
       "      <th>Year</th>\n",
       "      <th></th>\n",
       "      <th></th>\n",
       "      <th></th>\n",
       "      <th></th>\n",
       "      <th></th>\n",
       "      <th></th>\n",
       "      <th></th>\n",
       "      <th></th>\n",
       "      <th></th>\n",
       "      <th></th>\n",
       "      <th></th>\n",
       "      <th></th>\n",
       "    </tr>\n",
       "  </thead>\n",
       "  <tbody>\n",
       "    <tr>\n",
       "      <th>2004</th>\n",
       "      <td>Alex</td>\n",
       "      <td>1800</td>\n",
       "      <td>2004-07-31</td>\n",
       "      <td>TD</td>\n",
       "      <td>30.3N</td>\n",
       "      <td>78.3W</td>\n",
       "      <td>25.0</td>\n",
       "      <td>1010.0</td>\n",
       "      <td>0.00</td>\n",
       "      <td>0.0</td>\n",
       "      <td>0.0</td>\n",
       "      <td>0.0</td>\n",
       "    </tr>\n",
       "    <tr>\n",
       "      <th>2004</th>\n",
       "      <td>Alex</td>\n",
       "      <td>0</td>\n",
       "      <td>2004-08-01</td>\n",
       "      <td>TD</td>\n",
       "      <td>31.0N</td>\n",
       "      <td>78.8W</td>\n",
       "      <td>25.0</td>\n",
       "      <td>1009.0</td>\n",
       "      <td>0.00</td>\n",
       "      <td>0.0</td>\n",
       "      <td>0.0</td>\n",
       "      <td>0.0</td>\n",
       "    </tr>\n",
       "    <tr>\n",
       "      <th>2004</th>\n",
       "      <td>Alex</td>\n",
       "      <td>600</td>\n",
       "      <td>2004-08-01</td>\n",
       "      <td>TD</td>\n",
       "      <td>31.5N</td>\n",
       "      <td>79.0W</td>\n",
       "      <td>25.0</td>\n",
       "      <td>1009.0</td>\n",
       "      <td>0.00</td>\n",
       "      <td>0.0</td>\n",
       "      <td>0.0</td>\n",
       "      <td>0.0</td>\n",
       "    </tr>\n",
       "    <tr>\n",
       "      <th>2004</th>\n",
       "      <td>Alex</td>\n",
       "      <td>1200</td>\n",
       "      <td>2004-08-01</td>\n",
       "      <td>TD</td>\n",
       "      <td>31.6N</td>\n",
       "      <td>79.1W</td>\n",
       "      <td>30.0</td>\n",
       "      <td>1009.0</td>\n",
       "      <td>0.00</td>\n",
       "      <td>0.0</td>\n",
       "      <td>0.0</td>\n",
       "      <td>0.0</td>\n",
       "    </tr>\n",
       "    <tr>\n",
       "      <th>2004</th>\n",
       "      <td>Alex</td>\n",
       "      <td>1800</td>\n",
       "      <td>2004-08-01</td>\n",
       "      <td>TS</td>\n",
       "      <td>31.6N</td>\n",
       "      <td>79.2W</td>\n",
       "      <td>35.0</td>\n",
       "      <td>1009.0</td>\n",
       "      <td>35.36</td>\n",
       "      <td>0.0</td>\n",
       "      <td>0.0</td>\n",
       "      <td>0.0</td>\n",
       "    </tr>\n",
       "  </tbody>\n",
       "</table>\n",
       "</div>"
      ],
      "text/plain": [
       "     Storm_Name  Time       Date Status     Lat     Long  Max_Wind  \\\n",
       "Year                                                                 \n",
       "2004       Alex  1800 2004-07-31     TD   30.3N    78.3W      25.0   \n",
       "2004       Alex     0 2004-08-01     TD   31.0N    78.8W      25.0   \n",
       "2004       Alex   600 2004-08-01     TD   31.5N    79.0W      25.0   \n",
       "2004       Alex  1200 2004-08-01     TD   31.6N    79.1W      30.0   \n",
       "2004       Alex  1800 2004-08-01     TS   31.6N    79.2W      35.0   \n",
       "\n",
       "      Min_Pressure  34kt Wind Field  50kt Wind Field  64kt Wind Field  \\\n",
       "Year                                                                    \n",
       "2004        1010.0             0.00              0.0              0.0   \n",
       "2004        1009.0             0.00              0.0              0.0   \n",
       "2004        1009.0             0.00              0.0              0.0   \n",
       "2004        1009.0             0.00              0.0              0.0   \n",
       "2004        1009.0            35.36              0.0              0.0   \n",
       "\n",
       "      87kt Wind Field  \n",
       "Year                   \n",
       "2004              0.0  \n",
       "2004              0.0  \n",
       "2004              0.0  \n",
       "2004              0.0  \n",
       "2004              0.0  "
      ]
     },
     "execution_count": 17,
     "metadata": {},
     "output_type": "execute_result"
    }
   ],
   "source": [
    "hsi.head()"
   ]
  },
  {
   "cell_type": "code",
   "execution_count": 18,
   "metadata": {},
   "outputs": [
    {
     "data": {
      "text/plain": [
       "2.9043142926006267"
      ]
     },
     "execution_count": 18,
     "metadata": {},
     "output_type": "execute_result"
    }
   ],
   "source": [
    "# define list of times\n",
    "\n",
    "times = ['0','600','1200','1800']\n",
    "\n",
    "# create a list of observations not in 'times' \n",
    "\n",
    "off_times = [x for x in hsi['Time'] if x not in times]   \n",
    "\n",
    "# find the percentage of observations with off_times\n",
    "\n",
    "(len(off_times)/len(hsi['Time']))*100"
   ]
  },
  {
   "cell_type": "code",
   "execution_count": 19,
   "metadata": {},
   "outputs": [
    {
     "name": "stdout",
     "output_type": "stream",
     "text": [
      "93 / 241\n"
     ]
    },
    {
     "data": {
      "text/plain": [
       "38.589211618257266"
      ]
     },
     "execution_count": 19,
     "metadata": {},
     "output_type": "execute_result"
    }
   ],
   "source": [
    "# observe data for rows that are in 'off_times'\n",
    "\n",
    "off_times_df = hsi[hsi['Time'].isin(off_times)]\n",
    "\n",
    "# find the percentage of observations for err_rad_* in off_times_df are 0 or 999\n",
    "\n",
    "print(str(off_times_df[off_times_df['34kt Wind Field'].isin([0.00, 999.0])]['34kt Wind Field'].count())+' / '+str(len(off_times)))\n",
    "\n",
    "((off_times_df[off_times_df['34kt Wind Field'].isin([0.00, 999.0])]['34kt Wind Field'].count())/len(off_times))*100"
   ]
  },
  {
   "cell_type": "code",
   "execution_count": 20,
   "metadata": {},
   "outputs": [],
   "source": [
    "# a large percentage of rows that are not at 0, 600, 1200, or 1800 have erroneous data\n",
    "# remove those rows whose time is not == 0, 600, 1200, 0r 1800\n",
    "\n",
    "hsi = hsi[hsi['Time'].isin(['0','600','1200','1800'])]"
   ]
  },
  {
   "cell_type": "code",
   "execution_count": 21,
   "metadata": {},
   "outputs": [
    {
     "name": "stdout",
     "output_type": "stream",
     "text": [
      "['TD' 'TS' 'HU']\n"
     ]
    }
   ],
   "source": [
    "# strip whitespace in front of statuses\n",
    "\n",
    "hsi['Status'] = hsi['Status'].str.strip()\n",
    "\n",
    "# remove storms that aren't a tropical depression, tropical storm, or hurricane\n",
    "\n",
    "drop_status=['EX','WV','LO','SS','SD','DB']\n",
    "hsi = hsi[~hsi['Status'].isin(drop_status)]\n",
    "print(hsi['Status'].unique())"
   ]
  },
  {
   "cell_type": "code",
   "execution_count": 22,
   "metadata": {},
   "outputs": [],
   "source": [
    "# remove the N and W from the lat and long\n",
    "\n",
    "hsi['Lat'] = hsi['Lat'].str.strip(to_strip='N')\n",
    "hsi['Long'] = hsi['Long'].str.strip(to_strip='W')"
   ]
  },
  {
   "cell_type": "code",
   "execution_count": 23,
   "metadata": {},
   "outputs": [],
   "source": [
    "# change the lat and long to numeric data\n",
    "\n",
    "hsi['Lat'] = hsi['Lat'].astype('float64')\n",
    "hsi['Long'] = hsi['Long'].astype('float64')"
   ]
  },
  {
   "cell_type": "code",
   "execution_count": 24,
   "metadata": {},
   "outputs": [],
   "source": [
    "# convert Long coordinates to 360 degree scale\n",
    "\n",
    "hsi['Long'] = 359-hsi['Long']"
   ]
  },
  {
   "cell_type": "code",
   "execution_count": 25,
   "metadata": {},
   "outputs": [
    {
     "data": {
      "text/html": [
       "<div>\n",
       "<style scoped>\n",
       "    .dataframe tbody tr th:only-of-type {\n",
       "        vertical-align: middle;\n",
       "    }\n",
       "\n",
       "    .dataframe tbody tr th {\n",
       "        vertical-align: top;\n",
       "    }\n",
       "\n",
       "    .dataframe thead th {\n",
       "        text-align: right;\n",
       "    }\n",
       "</style>\n",
       "<table border=\"1\" class=\"dataframe\">\n",
       "  <thead>\n",
       "    <tr style=\"text-align: right;\">\n",
       "      <th></th>\n",
       "      <th>Storm_Name</th>\n",
       "      <th>Time</th>\n",
       "      <th>Date</th>\n",
       "      <th>Status</th>\n",
       "      <th>Lat</th>\n",
       "      <th>Long</th>\n",
       "      <th>Max_Wind</th>\n",
       "      <th>Min_Pressure</th>\n",
       "      <th>34kt Wind Field</th>\n",
       "      <th>50kt Wind Field</th>\n",
       "      <th>64kt Wind Field</th>\n",
       "      <th>87kt Wind Field</th>\n",
       "    </tr>\n",
       "    <tr>\n",
       "      <th>Year</th>\n",
       "      <th></th>\n",
       "      <th></th>\n",
       "      <th></th>\n",
       "      <th></th>\n",
       "      <th></th>\n",
       "      <th></th>\n",
       "      <th></th>\n",
       "      <th></th>\n",
       "      <th></th>\n",
       "      <th></th>\n",
       "      <th></th>\n",
       "      <th></th>\n",
       "    </tr>\n",
       "  </thead>\n",
       "  <tbody>\n",
       "    <tr>\n",
       "      <th>2004</th>\n",
       "      <td>Alex</td>\n",
       "      <td>1800</td>\n",
       "      <td>2004-07-31</td>\n",
       "      <td>TD</td>\n",
       "      <td>30.3</td>\n",
       "      <td>280.7</td>\n",
       "      <td>25.0</td>\n",
       "      <td>1010.0</td>\n",
       "      <td>0.00</td>\n",
       "      <td>0.0</td>\n",
       "      <td>0.0</td>\n",
       "      <td>0.0</td>\n",
       "    </tr>\n",
       "    <tr>\n",
       "      <th>2004</th>\n",
       "      <td>Alex</td>\n",
       "      <td>0</td>\n",
       "      <td>2004-08-01</td>\n",
       "      <td>TD</td>\n",
       "      <td>31.0</td>\n",
       "      <td>280.2</td>\n",
       "      <td>25.0</td>\n",
       "      <td>1009.0</td>\n",
       "      <td>0.00</td>\n",
       "      <td>0.0</td>\n",
       "      <td>0.0</td>\n",
       "      <td>0.0</td>\n",
       "    </tr>\n",
       "    <tr>\n",
       "      <th>2004</th>\n",
       "      <td>Alex</td>\n",
       "      <td>600</td>\n",
       "      <td>2004-08-01</td>\n",
       "      <td>TD</td>\n",
       "      <td>31.5</td>\n",
       "      <td>280.0</td>\n",
       "      <td>25.0</td>\n",
       "      <td>1009.0</td>\n",
       "      <td>0.00</td>\n",
       "      <td>0.0</td>\n",
       "      <td>0.0</td>\n",
       "      <td>0.0</td>\n",
       "    </tr>\n",
       "    <tr>\n",
       "      <th>2004</th>\n",
       "      <td>Alex</td>\n",
       "      <td>1200</td>\n",
       "      <td>2004-08-01</td>\n",
       "      <td>TD</td>\n",
       "      <td>31.6</td>\n",
       "      <td>279.9</td>\n",
       "      <td>30.0</td>\n",
       "      <td>1009.0</td>\n",
       "      <td>0.00</td>\n",
       "      <td>0.0</td>\n",
       "      <td>0.0</td>\n",
       "      <td>0.0</td>\n",
       "    </tr>\n",
       "    <tr>\n",
       "      <th>2004</th>\n",
       "      <td>Alex</td>\n",
       "      <td>1800</td>\n",
       "      <td>2004-08-01</td>\n",
       "      <td>TS</td>\n",
       "      <td>31.6</td>\n",
       "      <td>279.8</td>\n",
       "      <td>35.0</td>\n",
       "      <td>1009.0</td>\n",
       "      <td>35.36</td>\n",
       "      <td>0.0</td>\n",
       "      <td>0.0</td>\n",
       "      <td>0.0</td>\n",
       "    </tr>\n",
       "  </tbody>\n",
       "</table>\n",
       "</div>"
      ],
      "text/plain": [
       "     Storm_Name  Time       Date Status   Lat   Long  Max_Wind  Min_Pressure  \\\n",
       "Year                                                                           \n",
       "2004       Alex  1800 2004-07-31     TD  30.3  280.7      25.0        1010.0   \n",
       "2004       Alex     0 2004-08-01     TD  31.0  280.2      25.0        1009.0   \n",
       "2004       Alex   600 2004-08-01     TD  31.5  280.0      25.0        1009.0   \n",
       "2004       Alex  1200 2004-08-01     TD  31.6  279.9      30.0        1009.0   \n",
       "2004       Alex  1800 2004-08-01     TS  31.6  279.8      35.0        1009.0   \n",
       "\n",
       "      34kt Wind Field  50kt Wind Field  64kt Wind Field  87kt Wind Field  \n",
       "Year                                                                      \n",
       "2004             0.00              0.0              0.0              0.0  \n",
       "2004             0.00              0.0              0.0              0.0  \n",
       "2004             0.00              0.0              0.0              0.0  \n",
       "2004             0.00              0.0              0.0              0.0  \n",
       "2004            35.36              0.0              0.0              0.0  "
      ]
     },
     "execution_count": 25,
     "metadata": {},
     "output_type": "execute_result"
    }
   ],
   "source": [
    "hsi.head()"
   ]
  },
  {
   "cell_type": "code",
   "execution_count": 26,
   "metadata": {},
   "outputs": [],
   "source": [
    "# define a function to assign intensity points\n",
    "\n",
    "def intensity(df):\n",
    "    if df['Max_Wind']<30:\n",
    "        return 0\n",
    "    elif df['Max_Wind']>=30 and df['Max_Wind']<=150:\n",
    "        return round((df['Max_Wind']/30)**2,2)\n",
    "    else:\n",
    "        return 25"
   ]
  },
  {
   "cell_type": "code",
   "execution_count": 27,
   "metadata": {},
   "outputs": [],
   "source": [
    "# create intensity list to insert \n",
    "\n",
    "intensity = list(hsi.apply(intensity, axis=1))\n",
    "\n",
    "# insert the intensity list as Intensity_pts column\n",
    "\n",
    "hsi.insert(8, 'Intensity_pts', intensity, True)"
   ]
  },
  {
   "cell_type": "code",
   "execution_count": 28,
   "metadata": {},
   "outputs": [
    {
     "data": {
      "text/html": [
       "<div>\n",
       "<style scoped>\n",
       "    .dataframe tbody tr th:only-of-type {\n",
       "        vertical-align: middle;\n",
       "    }\n",
       "\n",
       "    .dataframe tbody tr th {\n",
       "        vertical-align: top;\n",
       "    }\n",
       "\n",
       "    .dataframe thead th {\n",
       "        text-align: right;\n",
       "    }\n",
       "</style>\n",
       "<table border=\"1\" class=\"dataframe\">\n",
       "  <thead>\n",
       "    <tr style=\"text-align: right;\">\n",
       "      <th></th>\n",
       "      <th>Lat</th>\n",
       "      <th>Long</th>\n",
       "      <th>Max_Wind</th>\n",
       "      <th>Min_Pressure</th>\n",
       "      <th>Intensity_pts</th>\n",
       "      <th>34kt Wind Field</th>\n",
       "      <th>50kt Wind Field</th>\n",
       "      <th>64kt Wind Field</th>\n",
       "      <th>87kt Wind Field</th>\n",
       "    </tr>\n",
       "  </thead>\n",
       "  <tbody>\n",
       "    <tr>\n",
       "      <th>count</th>\n",
       "      <td>5538.000000</td>\n",
       "      <td>5538.000000</td>\n",
       "      <td>5538.000000</td>\n",
       "      <td>5538.000000</td>\n",
       "      <td>5538.000000</td>\n",
       "      <td>5538.000000</td>\n",
       "      <td>5538.000000</td>\n",
       "      <td>5538.000000</td>\n",
       "      <td>5538.000000</td>\n",
       "    </tr>\n",
       "    <tr>\n",
       "      <th>mean</th>\n",
       "      <td>24.253810</td>\n",
       "      <td>296.762170</td>\n",
       "      <td>55.678043</td>\n",
       "      <td>990.046407</td>\n",
       "      <td>4.185542</td>\n",
       "      <td>75.297347</td>\n",
       "      <td>26.045479</td>\n",
       "      <td>9.945107</td>\n",
       "      <td>2.764592</td>\n",
       "    </tr>\n",
       "    <tr>\n",
       "      <th>std</th>\n",
       "      <td>8.265535</td>\n",
       "      <td>19.813557</td>\n",
       "      <td>26.473478</td>\n",
       "      <td>20.504170</td>\n",
       "      <td>4.346416</td>\n",
       "      <td>61.119528</td>\n",
       "      <td>33.483274</td>\n",
       "      <td>18.254421</td>\n",
       "      <td>7.988081</td>\n",
       "    </tr>\n",
       "    <tr>\n",
       "      <th>min</th>\n",
       "      <td>7.700000</td>\n",
       "      <td>254.000000</td>\n",
       "      <td>15.000000</td>\n",
       "      <td>882.000000</td>\n",
       "      <td>0.000000</td>\n",
       "      <td>0.000000</td>\n",
       "      <td>0.000000</td>\n",
       "      <td>0.000000</td>\n",
       "      <td>0.000000</td>\n",
       "    </tr>\n",
       "    <tr>\n",
       "      <th>25%</th>\n",
       "      <td>17.125000</td>\n",
       "      <td>280.700000</td>\n",
       "      <td>35.000000</td>\n",
       "      <td>982.000000</td>\n",
       "      <td>1.360000</td>\n",
       "      <td>31.820000</td>\n",
       "      <td>0.000000</td>\n",
       "      <td>0.000000</td>\n",
       "      <td>0.000000</td>\n",
       "    </tr>\n",
       "    <tr>\n",
       "      <th>50%</th>\n",
       "      <td>23.900000</td>\n",
       "      <td>295.900000</td>\n",
       "      <td>50.000000</td>\n",
       "      <td>997.000000</td>\n",
       "      <td>2.780000</td>\n",
       "      <td>66.330000</td>\n",
       "      <td>10.610000</td>\n",
       "      <td>0.000000</td>\n",
       "      <td>0.000000</td>\n",
       "    </tr>\n",
       "    <tr>\n",
       "      <th>75%</th>\n",
       "      <td>30.700000</td>\n",
       "      <td>312.700000</td>\n",
       "      <td>70.000000</td>\n",
       "      <td>1005.000000</td>\n",
       "      <td>5.440000</td>\n",
       "      <td>111.360000</td>\n",
       "      <td>45.280000</td>\n",
       "      <td>15.000000</td>\n",
       "      <td>0.000000</td>\n",
       "    </tr>\n",
       "    <tr>\n",
       "      <th>max</th>\n",
       "      <td>48.800000</td>\n",
       "      <td>353.000000</td>\n",
       "      <td>160.000000</td>\n",
       "      <td>1017.000000</td>\n",
       "      <td>25.000000</td>\n",
       "      <td>415.090000</td>\n",
       "      <td>196.530000</td>\n",
       "      <td>117.150000</td>\n",
       "      <td>48.870000</td>\n",
       "    </tr>\n",
       "  </tbody>\n",
       "</table>\n",
       "</div>"
      ],
      "text/plain": [
       "               Lat         Long     Max_Wind  Min_Pressure  Intensity_pts  \\\n",
       "count  5538.000000  5538.000000  5538.000000   5538.000000    5538.000000   \n",
       "mean     24.253810   296.762170    55.678043    990.046407       4.185542   \n",
       "std       8.265535    19.813557    26.473478     20.504170       4.346416   \n",
       "min       7.700000   254.000000    15.000000    882.000000       0.000000   \n",
       "25%      17.125000   280.700000    35.000000    982.000000       1.360000   \n",
       "50%      23.900000   295.900000    50.000000    997.000000       2.780000   \n",
       "75%      30.700000   312.700000    70.000000   1005.000000       5.440000   \n",
       "max      48.800000   353.000000   160.000000   1017.000000      25.000000   \n",
       "\n",
       "       34kt Wind Field  50kt Wind Field  64kt Wind Field  87kt Wind Field  \n",
       "count      5538.000000      5538.000000      5538.000000      5538.000000  \n",
       "mean         75.297347        26.045479         9.945107         2.764592  \n",
       "std          61.119528        33.483274        18.254421         7.988081  \n",
       "min           0.000000         0.000000         0.000000         0.000000  \n",
       "25%          31.820000         0.000000         0.000000         0.000000  \n",
       "50%          66.330000        10.610000         0.000000         0.000000  \n",
       "75%         111.360000        45.280000        15.000000         0.000000  \n",
       "max         415.090000       196.530000       117.150000        48.870000  "
      ]
     },
     "execution_count": 28,
     "metadata": {},
     "output_type": "execute_result"
    }
   ],
   "source": [
    "hsi.describe()"
   ]
  },
  {
   "cell_type": "markdown",
   "metadata": {},
   "source": [
    "In order to be able to calculate the hurricane severity we must first have winds >= 30kts to register on the Intensity 25 point scale\n",
    "\n",
    "This means we can drop the observations with winds below 30kts"
   ]
  },
  {
   "cell_type": "code",
   "execution_count": 29,
   "metadata": {},
   "outputs": [],
   "source": [
    "# drop all observations with a max wind < 30kts\n",
    "\n",
    "hsi = hsi.loc[hsi['Max_Wind']>=30]"
   ]
  },
  {
   "cell_type": "code",
   "execution_count": 30,
   "metadata": {},
   "outputs": [
    {
     "data": {
      "text/html": [
       "<div>\n",
       "<style scoped>\n",
       "    .dataframe tbody tr th:only-of-type {\n",
       "        vertical-align: middle;\n",
       "    }\n",
       "\n",
       "    .dataframe tbody tr th {\n",
       "        vertical-align: top;\n",
       "    }\n",
       "\n",
       "    .dataframe thead th {\n",
       "        text-align: right;\n",
       "    }\n",
       "</style>\n",
       "<table border=\"1\" class=\"dataframe\">\n",
       "  <thead>\n",
       "    <tr style=\"text-align: right;\">\n",
       "      <th></th>\n",
       "      <th>Lat</th>\n",
       "      <th>Long</th>\n",
       "      <th>Max_Wind</th>\n",
       "      <th>Min_Pressure</th>\n",
       "      <th>Intensity_pts</th>\n",
       "      <th>34kt Wind Field</th>\n",
       "      <th>50kt Wind Field</th>\n",
       "      <th>64kt Wind Field</th>\n",
       "      <th>87kt Wind Field</th>\n",
       "    </tr>\n",
       "  </thead>\n",
       "  <tbody>\n",
       "    <tr>\n",
       "      <th>count</th>\n",
       "      <td>5246.000000</td>\n",
       "      <td>5246.000000</td>\n",
       "      <td>5246.000000</td>\n",
       "      <td>5246.000000</td>\n",
       "      <td>5246.000000</td>\n",
       "      <td>5246.000000</td>\n",
       "      <td>5246.000000</td>\n",
       "      <td>5246.000000</td>\n",
       "      <td>5246.000000</td>\n",
       "    </tr>\n",
       "    <tr>\n",
       "      <th>mean</th>\n",
       "      <td>24.196359</td>\n",
       "      <td>297.307015</td>\n",
       "      <td>57.446626</td>\n",
       "      <td>989.111132</td>\n",
       "      <td>4.418515</td>\n",
       "      <td>79.488507</td>\n",
       "      <td>27.495208</td>\n",
       "      <td>10.498666</td>\n",
       "      <td>2.918473</td>\n",
       "    </tr>\n",
       "    <tr>\n",
       "      <th>std</th>\n",
       "      <td>8.225277</td>\n",
       "      <td>19.484104</td>\n",
       "      <td>26.080182</td>\n",
       "      <td>20.641486</td>\n",
       "      <td>4.348960</td>\n",
       "      <td>60.086209</td>\n",
       "      <td>33.818294</td>\n",
       "      <td>18.600064</td>\n",
       "      <td>8.180016</td>\n",
       "    </tr>\n",
       "    <tr>\n",
       "      <th>min</th>\n",
       "      <td>7.700000</td>\n",
       "      <td>257.100000</td>\n",
       "      <td>30.000000</td>\n",
       "      <td>882.000000</td>\n",
       "      <td>1.000000</td>\n",
       "      <td>0.000000</td>\n",
       "      <td>0.000000</td>\n",
       "      <td>0.000000</td>\n",
       "      <td>0.000000</td>\n",
       "    </tr>\n",
       "    <tr>\n",
       "      <th>25%</th>\n",
       "      <td>17.200000</td>\n",
       "      <td>281.800000</td>\n",
       "      <td>35.000000</td>\n",
       "      <td>980.000000</td>\n",
       "      <td>1.360000</td>\n",
       "      <td>37.750000</td>\n",
       "      <td>0.000000</td>\n",
       "      <td>0.000000</td>\n",
       "      <td>0.000000</td>\n",
       "    </tr>\n",
       "    <tr>\n",
       "      <th>50%</th>\n",
       "      <td>23.800000</td>\n",
       "      <td>296.400000</td>\n",
       "      <td>50.000000</td>\n",
       "      <td>996.000000</td>\n",
       "      <td>2.780000</td>\n",
       "      <td>70.710000</td>\n",
       "      <td>15.000000</td>\n",
       "      <td>0.000000</td>\n",
       "      <td>0.000000</td>\n",
       "    </tr>\n",
       "    <tr>\n",
       "      <th>75%</th>\n",
       "      <td>30.500000</td>\n",
       "      <td>312.700000</td>\n",
       "      <td>70.000000</td>\n",
       "      <td>1005.000000</td>\n",
       "      <td>5.440000</td>\n",
       "      <td>114.020000</td>\n",
       "      <td>47.430000</td>\n",
       "      <td>17.320000</td>\n",
       "      <td>0.000000</td>\n",
       "    </tr>\n",
       "    <tr>\n",
       "      <th>max</th>\n",
       "      <td>48.800000</td>\n",
       "      <td>353.000000</td>\n",
       "      <td>160.000000</td>\n",
       "      <td>1015.000000</td>\n",
       "      <td>25.000000</td>\n",
       "      <td>415.090000</td>\n",
       "      <td>196.530000</td>\n",
       "      <td>117.150000</td>\n",
       "      <td>48.870000</td>\n",
       "    </tr>\n",
       "  </tbody>\n",
       "</table>\n",
       "</div>"
      ],
      "text/plain": [
       "               Lat         Long     Max_Wind  Min_Pressure  Intensity_pts  \\\n",
       "count  5246.000000  5246.000000  5246.000000   5246.000000    5246.000000   \n",
       "mean     24.196359   297.307015    57.446626    989.111132       4.418515   \n",
       "std       8.225277    19.484104    26.080182     20.641486       4.348960   \n",
       "min       7.700000   257.100000    30.000000    882.000000       1.000000   \n",
       "25%      17.200000   281.800000    35.000000    980.000000       1.360000   \n",
       "50%      23.800000   296.400000    50.000000    996.000000       2.780000   \n",
       "75%      30.500000   312.700000    70.000000   1005.000000       5.440000   \n",
       "max      48.800000   353.000000   160.000000   1015.000000      25.000000   \n",
       "\n",
       "       34kt Wind Field  50kt Wind Field  64kt Wind Field  87kt Wind Field  \n",
       "count      5246.000000      5246.000000      5246.000000      5246.000000  \n",
       "mean         79.488507        27.495208        10.498666         2.918473  \n",
       "std          60.086209        33.818294        18.600064         8.180016  \n",
       "min           0.000000         0.000000         0.000000         0.000000  \n",
       "25%          37.750000         0.000000         0.000000         0.000000  \n",
       "50%          70.710000        15.000000         0.000000         0.000000  \n",
       "75%         114.020000        47.430000        17.320000         0.000000  \n",
       "max         415.090000       196.530000       117.150000        48.870000  "
      ]
     },
     "execution_count": 30,
     "metadata": {},
     "output_type": "execute_result"
    }
   ],
   "source": [
    "hsi.describe()"
   ]
  },
  {
   "cell_type": "code",
   "execution_count": 34,
   "metadata": {},
   "outputs": [
    {
     "data": {
      "image/png": "[encoded data removed]",
      "text/plain": [
       "<Figure size 1152x576 with 1 Axes>"
      ]
     },
     "metadata": {},
     "output_type": "display_data"
    }
   ],
   "source": [
    "# using series created from each wind field with winds over 0 kt\n",
    "# produce a kde plot to see the density of observations\n",
    "\n",
    "plt.figure(figsize=(16,8))\n",
    "sns.kdeplot(data=hsi[hsi['34kt Wind Field']>0]['34kt Wind Field'], label='34kt Wind Field')\n",
    "sns.kdeplot(data=hsi[hsi['50kt Wind Field']>0]['50kt Wind Field'], label='50kt Wind Field')\n",
    "sns.kdeplot(data=hsi[hsi['64kt Wind Field']>0]['64kt Wind Field'], label='64kt Wind Field')\n",
    "sns.kdeplot(data=hsi[hsi['87kt Wind Field']>0]['87kt Wind Field'], label='87kt Wind Field')\n",
    "\n",
    "plt.xlabel('Wind Field (km)')\n",
    "plt.ylabel('Density (observations)')\n",
    "plt.title('Density of Wind Fields')\n",
    "plt.legend()\n",
    "\n",
    "plt.show()"
   ]
  },
  {
   "cell_type": "markdown",
   "metadata": {},
   "source": [
    "The range of values for 34kt effective radius is 7.07 - 415.09 and the range for intesity points for 34kt radius is 0-3. Therefore 0:7.07 and 3:408.02. Subtract 7.07 from each ratio and 0:0 and 3:408.02\n",
    "\n",
    "To find the size points for observations of 34kt effective radius take the effective radius value, multiply it by 3, and divide by 408.02\n",
    "\n",
    "The same calculations were performed on each respective effective radius"
   ]
  },
  {
   "cell_type": "code",
   "execution_count": 35,
   "metadata": {},
   "outputs": [],
   "source": [
    "# define a function to calculate size points\n",
    "\n",
    "def size_pts(df):\n",
    "    if df['34kt Wind Field']>0:\n",
    "        pts_34 = 3*df['34kt Wind Field']/408.02\n",
    "        if df['50kt Wind Field']>0:\n",
    "            pts_50 = 4*df['50kt Wind Field']/192.99\n",
    "            if df['64kt Wind Field']>0:\n",
    "                pts_64 = 8*df['64kt Wind Field']/112.15\n",
    "                if df['87kt Wind Field']>0:\n",
    "                    pts_87 = 10*df['87kt Wind Field']/45.2\n",
    "                    return pts_34+pts_50+pts_64+pts_87     "
   ]
  },
  {
   "cell_type": "code",
   "execution_count": 36,
   "metadata": {},
   "outputs": [],
   "source": [
    "# insert the Size_pts column based on the results from the size_pts function\n",
    "\n",
    "hsi.insert(9,'Size_pts', list(hsi.apply(size_pts, axis=1)), True)"
   ]
  },
  {
   "cell_type": "code",
   "execution_count": 37,
   "metadata": {},
   "outputs": [],
   "source": [
    "# replace NaN values with 0\n",
    "\n",
    "hsi['Size_pts'].fillna(value=0, inplace=True)"
   ]
  },
  {
   "cell_type": "code",
   "execution_count": 39,
   "metadata": {},
   "outputs": [],
   "source": [
    "# create Severity column by adding Intensity pts and Size pts\n",
    "\n",
    "hsi.insert(10, 'Severity', hsi['Intensity_pts']+hsi['Size_pts'], True)"
   ]
  },
  {
   "cell_type": "code",
   "execution_count": 40,
   "metadata": {},
   "outputs": [
    {
     "data": {
      "text/html": [
       "<div>\n",
       "<style scoped>\n",
       "    .dataframe tbody tr th:only-of-type {\n",
       "        vertical-align: middle;\n",
       "    }\n",
       "\n",
       "    .dataframe tbody tr th {\n",
       "        vertical-align: top;\n",
       "    }\n",
       "\n",
       "    .dataframe thead th {\n",
       "        text-align: right;\n",
       "    }\n",
       "</style>\n",
       "<table border=\"1\" class=\"dataframe\">\n",
       "  <thead>\n",
       "    <tr style=\"text-align: right;\">\n",
       "      <th></th>\n",
       "      <th>Storm_Name</th>\n",
       "      <th>Time</th>\n",
       "      <th>Date</th>\n",
       "      <th>Status</th>\n",
       "      <th>Lat</th>\n",
       "      <th>Long</th>\n",
       "      <th>Max_Wind</th>\n",
       "      <th>Min_Pressure</th>\n",
       "      <th>Intensity_pts</th>\n",
       "      <th>Size_pts</th>\n",
       "      <th>Severity</th>\n",
       "      <th>34kt Wind Field</th>\n",
       "      <th>50kt Wind Field</th>\n",
       "      <th>64kt Wind Field</th>\n",
       "      <th>87kt Wind Field</th>\n",
       "    </tr>\n",
       "    <tr>\n",
       "      <th>Year</th>\n",
       "      <th></th>\n",
       "      <th></th>\n",
       "      <th></th>\n",
       "      <th></th>\n",
       "      <th></th>\n",
       "      <th></th>\n",
       "      <th></th>\n",
       "      <th></th>\n",
       "      <th></th>\n",
       "      <th></th>\n",
       "      <th></th>\n",
       "      <th></th>\n",
       "      <th></th>\n",
       "      <th></th>\n",
       "      <th></th>\n",
       "    </tr>\n",
       "  </thead>\n",
       "  <tbody>\n",
       "    <tr>\n",
       "      <th>2004</th>\n",
       "      <td>Alex</td>\n",
       "      <td>1200</td>\n",
       "      <td>2004-08-01</td>\n",
       "      <td>TD</td>\n",
       "      <td>31.6</td>\n",
       "      <td>279.9</td>\n",
       "      <td>30.0</td>\n",
       "      <td>1009.0</td>\n",
       "      <td>1.00</td>\n",
       "      <td>0.0</td>\n",
       "      <td>1.00</td>\n",
       "      <td>0.00</td>\n",
       "      <td>0.00</td>\n",
       "      <td>0.0</td>\n",
       "      <td>0.0</td>\n",
       "    </tr>\n",
       "    <tr>\n",
       "      <th>2004</th>\n",
       "      <td>Alex</td>\n",
       "      <td>1800</td>\n",
       "      <td>2004-08-01</td>\n",
       "      <td>TS</td>\n",
       "      <td>31.6</td>\n",
       "      <td>279.8</td>\n",
       "      <td>35.0</td>\n",
       "      <td>1009.0</td>\n",
       "      <td>1.36</td>\n",
       "      <td>0.0</td>\n",
       "      <td>1.36</td>\n",
       "      <td>35.36</td>\n",
       "      <td>0.00</td>\n",
       "      <td>0.0</td>\n",
       "      <td>0.0</td>\n",
       "    </tr>\n",
       "    <tr>\n",
       "      <th>2004</th>\n",
       "      <td>Alex</td>\n",
       "      <td>0</td>\n",
       "      <td>2004-08-02</td>\n",
       "      <td>TS</td>\n",
       "      <td>31.5</td>\n",
       "      <td>279.7</td>\n",
       "      <td>35.0</td>\n",
       "      <td>1007.0</td>\n",
       "      <td>1.36</td>\n",
       "      <td>0.0</td>\n",
       "      <td>1.36</td>\n",
       "      <td>35.36</td>\n",
       "      <td>0.00</td>\n",
       "      <td>0.0</td>\n",
       "      <td>0.0</td>\n",
       "    </tr>\n",
       "    <tr>\n",
       "      <th>2004</th>\n",
       "      <td>Alex</td>\n",
       "      <td>600</td>\n",
       "      <td>2004-08-02</td>\n",
       "      <td>TS</td>\n",
       "      <td>31.4</td>\n",
       "      <td>279.6</td>\n",
       "      <td>40.0</td>\n",
       "      <td>1005.0</td>\n",
       "      <td>1.78</td>\n",
       "      <td>0.0</td>\n",
       "      <td>1.78</td>\n",
       "      <td>70.36</td>\n",
       "      <td>0.00</td>\n",
       "      <td>0.0</td>\n",
       "      <td>0.0</td>\n",
       "    </tr>\n",
       "    <tr>\n",
       "      <th>2004</th>\n",
       "      <td>Alex</td>\n",
       "      <td>1200</td>\n",
       "      <td>2004-08-02</td>\n",
       "      <td>TS</td>\n",
       "      <td>31.3</td>\n",
       "      <td>280.0</td>\n",
       "      <td>50.0</td>\n",
       "      <td>992.0</td>\n",
       "      <td>2.78</td>\n",
       "      <td>0.0</td>\n",
       "      <td>2.78</td>\n",
       "      <td>66.57</td>\n",
       "      <td>21.21</td>\n",
       "      <td>0.0</td>\n",
       "      <td>0.0</td>\n",
       "    </tr>\n",
       "  </tbody>\n",
       "</table>\n",
       "</div>"
      ],
      "text/plain": [
       "     Storm_Name  Time       Date Status   Lat   Long  Max_Wind  Min_Pressure  \\\n",
       "Year                                                                           \n",
       "2004       Alex  1200 2004-08-01     TD  31.6  279.9      30.0        1009.0   \n",
       "2004       Alex  1800 2004-08-01     TS  31.6  279.8      35.0        1009.0   \n",
       "2004       Alex     0 2004-08-02     TS  31.5  279.7      35.0        1007.0   \n",
       "2004       Alex   600 2004-08-02     TS  31.4  279.6      40.0        1005.0   \n",
       "2004       Alex  1200 2004-08-02     TS  31.3  280.0      50.0         992.0   \n",
       "\n",
       "      Intensity_pts  Size_pts  Severity  34kt Wind Field  50kt Wind Field  \\\n",
       "Year                                                                        \n",
       "2004           1.00       0.0      1.00             0.00             0.00   \n",
       "2004           1.36       0.0      1.36            35.36             0.00   \n",
       "2004           1.36       0.0      1.36            35.36             0.00   \n",
       "2004           1.78       0.0      1.78            70.36             0.00   \n",
       "2004           2.78       0.0      2.78            66.57            21.21   \n",
       "\n",
       "      64kt Wind Field  87kt Wind Field  \n",
       "Year                                    \n",
       "2004              0.0              0.0  \n",
       "2004              0.0              0.0  \n",
       "2004              0.0              0.0  \n",
       "2004              0.0              0.0  \n",
       "2004              0.0              0.0  "
      ]
     },
     "execution_count": 40,
     "metadata": {},
     "output_type": "execute_result"
    }
   ],
   "source": [
    "hsi.head()"
   ]
  },
  {
   "cell_type": "code",
   "execution_count": 52,
   "metadata": {},
   "outputs": [
    {
     "data": {
      "image/png": "[encoded data removed]",
      "text/plain": [
       "<Figure size 864x432 with 2 Axes>"
      ]
     },
     "metadata": {},
     "output_type": "display_data"
    }
   ],
   "source": [
    "fig, axes = plt.subplots(1, 2, sharey=True, figsize=(12,6))\n",
    "\n",
    "sns.histplot(ax=axes[0], data=hsi, x='Intensity_pts', bins=10)\n",
    "sns.histplot(ax=axes[1], data=hsi, x='Size_pts', bins=10)\n",
    "\n",
    "plt.tight_layout()\n",
    "plt.show()"
   ]
  },
  {
   "cell_type": "code",
   "execution_count": 53,
   "metadata": {},
   "outputs": [
    {
     "data": {
      "image/png": "[encoded data removed]",
      "text/plain": [
       "<Figure size 360x360 with 1 Axes>"
      ]
     },
     "metadata": {},
     "output_type": "display_data"
    }
   ],
   "source": [
    "sns.relplot(data=hsi, x='Min_Pressure', y='Severity')\n",
    "plt.show()"
   ]
  },
  {
   "cell_type": "markdown",
   "metadata": {},
   "source": [
    "need to investigate why there's a gap around 10"
   ]
  },
  {
   "cell_type": "code",
   "execution_count": 56,
   "metadata": {
    "scrolled": false
   },
   "outputs": [
    {
     "data": {
      "image/png": "[encoded data removed]",
      "text/plain": [
       "<Figure size 720x576 with 1 Axes>"
      ]
     },
     "metadata": {},
     "output_type": "display_data"
    }
   ],
   "source": [
    "plt.figure(figsize = (10,8))\n",
    "sns.scatterplot(data=hsi, x=hsi.index, y='Severity', hue='Status', alpha=0.8)\n",
    "\n",
    "plt.show()"
   ]
  },
  {
   "cell_type": "code",
   "execution_count": 60,
   "metadata": {},
   "outputs": [],
   "source": [
    "# find the average severity score for each year\n",
    "\n",
    "avg_sev = []\n",
    "\n",
    "for i in hsi.index.unique():\n",
    "    avg = hsi['Severity'][hsi.index==i].mean()\n",
    "    avg_sev.append(avg)\n",
    "    #print(i, avg)"
   ]
  },
  {
   "cell_type": "code",
   "execution_count": 58,
   "metadata": {},
   "outputs": [
    {
     "data": {
      "image/png": "[encoded data removed]",
      "text/plain": [
       "<Figure size 864x432 with 1 Axes>"
      ]
     },
     "metadata": {},
     "output_type": "display_data"
    }
   ],
   "source": [
    "fig = plt.figure()\n",
    "fig.set_size_inches(12,6)\n",
    "\n",
    "sns.barplot(x=hsi.index.unique(), y=avg_sev)\n",
    "plt.title('Average Storm Severity per Year')\n",
    "plt.ylabel('Average Storm Severity')\n",
    "\n",
    "plt.show()"
   ]
  },
  {
   "cell_type": "code",
   "execution_count": 59,
   "metadata": {},
   "outputs": [
    {
     "data": {
      "image/png": "[encoded data removed]",
      "text/plain": [
       "<Figure size 864x432 with 1 Axes>"
      ]
     },
     "metadata": {},
     "output_type": "display_data"
    }
   ],
   "source": [
    "# find the number of storms each year\n",
    "\n",
    "annual_storms = hsi.groupby([hsi.index])['Storm_Name'].nunique().to_frame('Number of Storms')\n",
    "\n",
    "fig = plt.figure()\n",
    "fig.set_size_inches(12,6)\n",
    "sns.barplot(data=annual_storms, x=annual_storms.index, y='Number of Storms')\n",
    "plt.title('Number of Named Storms per Year')\n",
    "plt.ylabel('Number of Storms')\n",
    "plt.show()"
   ]
  },
  {
   "cell_type": "code",
   "execution_count": 62,
   "metadata": {},
   "outputs": [],
   "source": [
    "annual_storms"
   ]
  },
  {
   "cell_type": "code",
   "execution_count": null,
   "metadata": {},
   "outputs": [],
   "source": [
    "hsi.head()"
   ]
  },
  {
   "cell_type": "code",
   "execution_count": 63,
   "metadata": {},
   "outputs": [],
   "source": [
    "# find the minimum pressure, max intensity, max size, and max severity for each storm\n",
    "\n",
    "min_pressure = hsi.reset_index().groupby(by=[hsi.index, 'Storm_Name'])['Min_Pressure'].min().to_frame()\n",
    "max_severity = hsi.reset_index().groupby(by=[hsi.index, 'Storm_Name'])['Severity'].max().to_frame()\n",
    "max_intensity = hsi.reset_index().groupby(by=[hsi.index, 'Storm_Name'])['Intensity_pts'].max().to_frame()\n",
    "max_size = hsi.reset_index().groupby(by=[hsi.index, 'Storm_Name'])['Size_pts'].max().to_frame()\n",
    "max_wind = hsi.reset_index().groupby(by=[hsi.index, 'Storm_Name'])['Max_Wind'].max().to_frame()"
   ]
  },
  {
   "cell_type": "code",
   "execution_count": 64,
   "metadata": {},
   "outputs": [],
   "source": [
    "hsi2 = min_pressure.merge(\n",
    "    max_severity.merge(\n",
    "        max_intensity.merge(\n",
    "            max_size.merge(\n",
    "                max_wind, on=['Year','Storm_Name']), on=['Year','Storm_Name']), on=['Year','Storm_Name']), on=['Year','Storm_Name'])"
   ]
  },
  {
   "cell_type": "code",
   "execution_count": 65,
   "metadata": {},
   "outputs": [
    {
     "data": {
      "image/png": "[encoded data removed]",
      "text/plain": [
       "<Figure size 360x360 with 1 Axes>"
      ]
     },
     "metadata": {},
     "output_type": "display_data"
    }
   ],
   "source": [
    "sns.lmplot(data=hsi2, y='Min_Pressure', x='Severity')\n",
    "plt.show()"
   ]
  },
  {
   "cell_type": "code",
   "execution_count": 67,
   "metadata": {},
   "outputs": [
    {
     "data": {
      "text/html": [
       "<div>\n",
       "<style scoped>\n",
       "    .dataframe tbody tr th:only-of-type {\n",
       "        vertical-align: middle;\n",
       "    }\n",
       "\n",
       "    .dataframe tbody tr th {\n",
       "        vertical-align: top;\n",
       "    }\n",
       "\n",
       "    .dataframe thead th {\n",
       "        text-align: right;\n",
       "    }\n",
       "</style>\n",
       "<table border=\"1\" class=\"dataframe\">\n",
       "  <thead>\n",
       "    <tr style=\"text-align: right;\">\n",
       "      <th></th>\n",
       "      <th></th>\n",
       "      <th>Min_Pressure</th>\n",
       "      <th>Severity</th>\n",
       "      <th>Intensity_pts</th>\n",
       "      <th>Size_pts</th>\n",
       "      <th>Max_Wind</th>\n",
       "    </tr>\n",
       "    <tr>\n",
       "      <th>Year</th>\n",
       "      <th>Storm_Name</th>\n",
       "      <th></th>\n",
       "      <th></th>\n",
       "      <th></th>\n",
       "      <th></th>\n",
       "      <th></th>\n",
       "    </tr>\n",
       "  </thead>\n",
       "  <tbody>\n",
       "    <tr>\n",
       "      <th rowspan=\"5\" valign=\"top\">2004</th>\n",
       "      <th>Alex</th>\n",
       "      <td>957.0</td>\n",
       "      <td>21.197778</td>\n",
       "      <td>12.25</td>\n",
       "      <td>9.296774</td>\n",
       "      <td>105.0</td>\n",
       "    </tr>\n",
       "    <tr>\n",
       "      <th>Bonnie</th>\n",
       "      <td>1001.0</td>\n",
       "      <td>3.360000</td>\n",
       "      <td>3.36</td>\n",
       "      <td>0.000000</td>\n",
       "      <td>55.0</td>\n",
       "    </tr>\n",
       "    <tr>\n",
       "      <th>Charley</th>\n",
       "      <td>947.0</td>\n",
       "      <td>21.719795</td>\n",
       "      <td>17.36</td>\n",
       "      <td>5.179974</td>\n",
       "      <td>125.0</td>\n",
       "    </tr>\n",
       "    <tr>\n",
       "      <th>Danielle</th>\n",
       "      <td>964.0</td>\n",
       "      <td>15.793862</td>\n",
       "      <td>10.03</td>\n",
       "      <td>5.763862</td>\n",
       "      <td>95.0</td>\n",
       "    </tr>\n",
       "    <tr>\n",
       "      <th>Earl</th>\n",
       "      <td>1009.0</td>\n",
       "      <td>2.250000</td>\n",
       "      <td>2.25</td>\n",
       "      <td>0.000000</td>\n",
       "      <td>45.0</td>\n",
       "    </tr>\n",
       "  </tbody>\n",
       "</table>\n",
       "</div>"
      ],
      "text/plain": [
       "                 Min_Pressure   Severity  Intensity_pts  Size_pts  Max_Wind\n",
       "Year Storm_Name                                                            \n",
       "2004 Alex               957.0  21.197778          12.25  9.296774     105.0\n",
       "     Bonnie            1001.0   3.360000           3.36  0.000000      55.0\n",
       "     Charley            947.0  21.719795          17.36  5.179974     125.0\n",
       "     Danielle           964.0  15.793862          10.03  5.763862      95.0\n",
       "     Earl              1009.0   2.250000           2.25  0.000000      45.0"
      ]
     },
     "execution_count": 67,
     "metadata": {},
     "output_type": "execute_result"
    }
   ],
   "source": [
    "hsi2.head()"
   ]
  },
  {
   "cell_type": "code",
   "execution_count": 68,
   "metadata": {},
   "outputs": [
    {
     "data": {
      "image/png": "[encoded data removed]",
      "text/plain": [
       "<Figure size 864x576 with 1 Axes>"
      ]
     },
     "metadata": {},
     "output_type": "display_data"
    }
   ],
   "source": [
    "plt.figure(figsize=(12,8))\n",
    "sns.lineplot(data=hsi2, x='Year', y='Severity', ci=None)\n",
    "plt.title('Average Storm Severity per Year')\n",
    "plt.show()"
   ]
  },
  {
   "cell_type": "code",
   "execution_count": 69,
   "metadata": {},
   "outputs": [
    {
     "data": {
      "text/plain": [
       "Year\n",
       "2004    14.262848\n",
       "2005    10.194991\n",
       "2006     6.988386\n",
       "2007     6.822134\n",
       "2008    10.317261\n",
       "2009     7.250705\n",
       "2010    10.224843\n",
       "2011     7.222874\n",
       "2012     6.359229\n",
       "2013     3.198571\n",
       "2014     8.857659\n",
       "2015     6.624079\n",
       "2016     8.564134\n",
       "2017    12.798238\n",
       "2018     8.709826\n",
       "2019     7.917968\n",
       "Name: Severity, dtype: float64"
      ]
     },
     "execution_count": 69,
     "metadata": {},
     "output_type": "execute_result"
    }
   ],
   "source": [
    "hsi2.groupby(['Year'])['Severity'].mean()"
   ]
  },
  {
   "cell_type": "code",
   "execution_count": null,
   "metadata": {},
   "outputs": [],
   "source": [
    "sns.pairplot(hsi2, kind='reg', markers='.')\n",
    "plt.show()"
   ]
  },
  {
   "cell_type": "code",
   "execution_count": 70,
   "metadata": {},
   "outputs": [],
   "source": [
    "# define a function to categorize each storm\n",
    "\n",
    "def storm_categorizer(storm):\n",
    "    if storm['Max_Wind']<=33:\n",
    "        return 'Tropical Depression'\n",
    "    elif (storm['Max_Wind']>33) and (storm['Max_Wind']<=63):\n",
    "        return 'Tropical Storm'\n",
    "    elif (storm['Max_Wind']>63) and (storm['Max_Wind']<=82):\n",
    "        return 'Cat 1: Hurricane'\n",
    "    elif (storm['Max_Wind']>82) and (storm['Max_Wind']<=95):\n",
    "        return 'Cat 2: Hurricane'\n",
    "    elif (storm['Max_Wind']>95) and (storm['Max_Wind']<=112):\n",
    "        return 'Cat 3: Hurricane'\n",
    "    elif (storm['Max_Wind']>112) and (storm['Max_Wind']<=136):\n",
    "        return 'Cat 4: Hurricane'\n",
    "    elif storm['Max_Wind']>136:\n",
    "        return 'Cat 5: Hurricane'"
   ]
  },
  {
   "cell_type": "code",
   "execution_count": 71,
   "metadata": {},
   "outputs": [],
   "source": [
    "hsi2['Category'] = hsi2.apply(storm_categorizer, axis=1)"
   ]
  },
  {
   "cell_type": "code",
   "execution_count": 72,
   "metadata": {},
   "outputs": [
    {
     "data": {
      "text/html": [
       "<div>\n",
       "<style scoped>\n",
       "    .dataframe tbody tr th:only-of-type {\n",
       "        vertical-align: middle;\n",
       "    }\n",
       "\n",
       "    .dataframe tbody tr th {\n",
       "        vertical-align: top;\n",
       "    }\n",
       "\n",
       "    .dataframe thead th {\n",
       "        text-align: right;\n",
       "    }\n",
       "</style>\n",
       "<table border=\"1\" class=\"dataframe\">\n",
       "  <thead>\n",
       "    <tr style=\"text-align: right;\">\n",
       "      <th></th>\n",
       "      <th></th>\n",
       "      <th>Min_Pressure</th>\n",
       "      <th>Severity</th>\n",
       "      <th>Intensity_pts</th>\n",
       "      <th>Size_pts</th>\n",
       "      <th>Max_Wind</th>\n",
       "      <th>Category</th>\n",
       "    </tr>\n",
       "    <tr>\n",
       "      <th>Year</th>\n",
       "      <th>Storm_Name</th>\n",
       "      <th></th>\n",
       "      <th></th>\n",
       "      <th></th>\n",
       "      <th></th>\n",
       "      <th></th>\n",
       "      <th></th>\n",
       "    </tr>\n",
       "  </thead>\n",
       "  <tbody>\n",
       "    <tr>\n",
       "      <th rowspan=\"5\" valign=\"top\">2004</th>\n",
       "      <th>Alex</th>\n",
       "      <td>957.0</td>\n",
       "      <td>21.197778</td>\n",
       "      <td>12.25</td>\n",
       "      <td>9.296774</td>\n",
       "      <td>105.0</td>\n",
       "      <td>Cat 3: Hurricane</td>\n",
       "    </tr>\n",
       "    <tr>\n",
       "      <th>Bonnie</th>\n",
       "      <td>1001.0</td>\n",
       "      <td>3.360000</td>\n",
       "      <td>3.36</td>\n",
       "      <td>0.000000</td>\n",
       "      <td>55.0</td>\n",
       "      <td>Tropical Storm</td>\n",
       "    </tr>\n",
       "    <tr>\n",
       "      <th>Charley</th>\n",
       "      <td>947.0</td>\n",
       "      <td>21.719795</td>\n",
       "      <td>17.36</td>\n",
       "      <td>5.179974</td>\n",
       "      <td>125.0</td>\n",
       "      <td>Cat 4: Hurricane</td>\n",
       "    </tr>\n",
       "    <tr>\n",
       "      <th>Danielle</th>\n",
       "      <td>964.0</td>\n",
       "      <td>15.793862</td>\n",
       "      <td>10.03</td>\n",
       "      <td>5.763862</td>\n",
       "      <td>95.0</td>\n",
       "      <td>Cat 2: Hurricane</td>\n",
       "    </tr>\n",
       "    <tr>\n",
       "      <th>Earl</th>\n",
       "      <td>1009.0</td>\n",
       "      <td>2.250000</td>\n",
       "      <td>2.25</td>\n",
       "      <td>0.000000</td>\n",
       "      <td>45.0</td>\n",
       "      <td>Tropical Storm</td>\n",
       "    </tr>\n",
       "  </tbody>\n",
       "</table>\n",
       "</div>"
      ],
      "text/plain": [
       "                 Min_Pressure   Severity  Intensity_pts  Size_pts  Max_Wind  \\\n",
       "Year Storm_Name                                                               \n",
       "2004 Alex               957.0  21.197778          12.25  9.296774     105.0   \n",
       "     Bonnie            1001.0   3.360000           3.36  0.000000      55.0   \n",
       "     Charley            947.0  21.719795          17.36  5.179974     125.0   \n",
       "     Danielle           964.0  15.793862          10.03  5.763862      95.0   \n",
       "     Earl              1009.0   2.250000           2.25  0.000000      45.0   \n",
       "\n",
       "                         Category  \n",
       "Year Storm_Name                    \n",
       "2004 Alex        Cat 3: Hurricane  \n",
       "     Bonnie        Tropical Storm  \n",
       "     Charley     Cat 4: Hurricane  \n",
       "     Danielle    Cat 2: Hurricane  \n",
       "     Earl          Tropical Storm  "
      ]
     },
     "execution_count": 72,
     "metadata": {},
     "output_type": "execute_result"
    }
   ],
   "source": [
    "hsi2.head()"
   ]
  },
  {
   "cell_type": "markdown",
   "metadata": {},
   "source": [
    "# Using k-Nearest Neighbors to predict storm category"
   ]
  },
  {
   "cell_type": "code",
   "execution_count": 74,
   "metadata": {},
   "outputs": [],
   "source": [
    "from sklearn.neighbors import KNeighborsClassifier\n",
    "from sklearn.model_selection import train_test_split as tts"
   ]
  },
  {
   "cell_type": "code",
   "execution_count": 75,
   "metadata": {},
   "outputs": [],
   "source": [
    "# due to multicollinearity I've decided to use only Min_Pressure and Size_pts\n",
    "\n",
    "features = hsi2.drop(['Category','Severity','Intensity_pts','Max_Wind'], axis=1)\n",
    "target = hsi2['Category']"
   ]
  },
  {
   "cell_type": "code",
   "execution_count": 76,
   "metadata": {},
   "outputs": [],
   "source": [
    "knn = KNeighborsClassifier(n_neighbors=5)"
   ]
  },
  {
   "cell_type": "code",
   "execution_count": 77,
   "metadata": {},
   "outputs": [],
   "source": [
    "X_train, X_test, y_train, y_test = tts(features, target)"
   ]
  },
  {
   "cell_type": "code",
   "execution_count": 78,
   "metadata": {},
   "outputs": [
    {
     "data": {
      "text/plain": [
       "KNeighborsClassifier(algorithm='auto', leaf_size=30, metric='minkowski',\n",
       "                     metric_params=None, n_jobs=None, n_neighbors=5, p=2,\n",
       "                     weights='uniform')"
      ]
     },
     "execution_count": 78,
     "metadata": {},
     "output_type": "execute_result"
    }
   ],
   "source": [
    "knn.fit(X_train, y_train)"
   ]
  },
  {
   "cell_type": "code",
   "execution_count": 79,
   "metadata": {},
   "outputs": [],
   "source": [
    "y_pred = knn.predict(X_test)"
   ]
  },
  {
   "cell_type": "code",
   "execution_count": 80,
   "metadata": {},
   "outputs": [
    {
     "name": "stdout",
     "output_type": "stream",
     "text": [
      "['Tropical Storm' 'Tropical Storm' 'Cat 5: Hurricane' 'Cat 1: Hurricane'\n",
      " 'Cat 1: Hurricane' 'Tropical Storm' 'Cat 1: Hurricane'\n",
      " 'Tropical Depression' 'Tropical Storm' 'Cat 4: Hurricane'\n",
      " 'Cat 3: Hurricane' 'Cat 4: Hurricane' 'Tropical Storm' 'Cat 1: Hurricane'\n",
      " 'Tropical Storm' 'Cat 1: Hurricane' 'Cat 2: Hurricane' 'Tropical Storm'\n",
      " 'Cat 1: Hurricane' 'Tropical Storm' 'Tropical Storm' 'Tropical Storm'\n",
      " 'Cat 1: Hurricane' 'Tropical Storm' 'Tropical Storm' 'Cat 1: Hurricane'\n",
      " 'Tropical Storm' 'Tropical Storm' 'Cat 5: Hurricane' 'Cat 1: Hurricane'\n",
      " 'Tropical Storm' 'Tropical Storm' 'Cat 4: Hurricane' 'Tropical Storm'\n",
      " 'Cat 1: Hurricane' 'Cat 1: Hurricane' 'Cat 4: Hurricane'\n",
      " 'Cat 1: Hurricane' 'Tropical Depression' 'Tropical Storm'\n",
      " 'Tropical Storm' 'Cat 1: Hurricane' 'Tropical Storm' 'Tropical Storm'\n",
      " 'Tropical Storm' 'Tropical Storm' 'Tropical Storm' 'Tropical Storm'\n",
      " 'Cat 5: Hurricane' 'Tropical Storm' 'Cat 4: Hurricane' 'Cat 1: Hurricane'\n",
      " 'Cat 1: Hurricane' 'Tropical Storm' 'Tropical Storm' 'Cat 4: Hurricane'\n",
      " 'Cat 1: Hurricane' 'Cat 1: Hurricane' 'Tropical Storm' 'Tropical Storm'\n",
      " 'Tropical Storm' 'Tropical Storm' 'Tropical Storm' 'Tropical Storm'\n",
      " 'Cat 2: Hurricane']\n"
     ]
    }
   ],
   "source": [
    "print(y_pred)"
   ]
  },
  {
   "cell_type": "code",
   "execution_count": 81,
   "metadata": {},
   "outputs": [
    {
     "data": {
      "text/plain": [
       "0.7538461538461538"
      ]
     },
     "execution_count": 81,
     "metadata": {},
     "output_type": "execute_result"
    }
   ],
   "source": [
    "knn.score(X_test, y_test)"
   ]
  },
  {
   "cell_type": "code",
   "execution_count": 82,
   "metadata": {},
   "outputs": [],
   "source": [
    "neighbors = np.arange(1,9)\n",
    "train_accuracy = np.empty(len(neighbors))\n",
    "test_accuracy = np.empty(len(neighbors))\n",
    "\n",
    "for i, k in enumerate(neighbors):\n",
    "    knn = KNeighborsClassifier(n_neighbors=k)\n",
    "    knn.fit(X_train, y_train)\n",
    "    train_accuracy[i] = knn.score(X_train, y_train)\n",
    "    test_accuracy[i] = knn.score(X_test, y_test)"
   ]
  },
  {
   "cell_type": "code",
   "execution_count": 83,
   "metadata": {},
   "outputs": [
    {
     "data": {
      "image/png": "[encoded data removed]",
      "text/plain": [
       "<Figure size 432x288 with 1 Axes>"
      ]
     },
     "metadata": {},
     "output_type": "display_data"
    }
   ],
   "source": [
    "plt.title('k-NN: Selecting the Number of Neighbors')\n",
    "plt.plot(neighbors, test_accuracy, label='Testing Accuracy')\n",
    "plt.plot(neighbors, train_accuracy, label='Training Accuracy')\n",
    "plt.legend()\n",
    "plt.xlabel('Number of Neighbors')\n",
    "plt.ylabel('Accuracy')\n",
    "plt.show()"
   ]
  },
  {
   "cell_type": "code",
   "execution_count": 84,
   "metadata": {},
   "outputs": [],
   "source": [
    "knn = KNeighborsClassifier(n_neighbors=3)"
   ]
  },
  {
   "cell_type": "code",
   "execution_count": 85,
   "metadata": {},
   "outputs": [
    {
     "data": {
      "text/plain": [
       "KNeighborsClassifier(algorithm='auto', leaf_size=30, metric='minkowski',\n",
       "                     metric_params=None, n_jobs=None, n_neighbors=3, p=2,\n",
       "                     weights='uniform')"
      ]
     },
     "execution_count": 85,
     "metadata": {},
     "output_type": "execute_result"
    }
   ],
   "source": [
    "knn.fit(X_train, y_train)"
   ]
  },
  {
   "cell_type": "code",
   "execution_count": 86,
   "metadata": {},
   "outputs": [],
   "source": [
    "y_pred = knn.predict(X_test)"
   ]
  },
  {
   "cell_type": "code",
   "execution_count": 87,
   "metadata": {},
   "outputs": [
    {
     "name": "stdout",
     "output_type": "stream",
     "text": [
      "['Tropical Storm' 'Tropical Storm' 'Cat 5: Hurricane' 'Cat 1: Hurricane'\n",
      " 'Cat 1: Hurricane' 'Tropical Storm' 'Cat 1: Hurricane'\n",
      " 'Tropical Depression' 'Tropical Storm' 'Cat 4: Hurricane'\n",
      " 'Cat 3: Hurricane' 'Cat 4: Hurricane' 'Cat 1: Hurricane'\n",
      " 'Cat 1: Hurricane' 'Tropical Storm' 'Cat 1: Hurricane' 'Cat 2: Hurricane'\n",
      " 'Tropical Storm' 'Cat 1: Hurricane' 'Tropical Storm' 'Tropical Storm'\n",
      " 'Tropical Storm' 'Cat 1: Hurricane' 'Tropical Storm' 'Tropical Storm'\n",
      " 'Cat 1: Hurricane' 'Tropical Storm' 'Tropical Storm' 'Cat 5: Hurricane'\n",
      " 'Cat 1: Hurricane' 'Tropical Storm' 'Tropical Storm' 'Cat 4: Hurricane'\n",
      " 'Tropical Storm' 'Cat 1: Hurricane' 'Cat 1: Hurricane' 'Cat 4: Hurricane'\n",
      " 'Cat 1: Hurricane' 'Tropical Depression' 'Tropical Storm'\n",
      " 'Tropical Storm' 'Cat 1: Hurricane' 'Tropical Storm' 'Tropical Storm'\n",
      " 'Tropical Storm' 'Tropical Storm' 'Tropical Storm' 'Tropical Storm'\n",
      " 'Cat 5: Hurricane' 'Tropical Storm' 'Cat 4: Hurricane' 'Cat 1: Hurricane'\n",
      " 'Cat 1: Hurricane' 'Tropical Storm' 'Tropical Storm' 'Cat 4: Hurricane'\n",
      " 'Cat 1: Hurricane' 'Cat 1: Hurricane' 'Tropical Storm' 'Tropical Storm'\n",
      " 'Tropical Storm' 'Tropical Storm' 'Tropical Storm' 'Tropical Storm'\n",
      " 'Cat 2: Hurricane']\n"
     ]
    }
   ],
   "source": [
    "print(y_pred)"
   ]
  },
  {
   "cell_type": "code",
   "execution_count": 88,
   "metadata": {},
   "outputs": [
    {
     "data": {
      "text/plain": [
       "0.7692307692307693"
      ]
     },
     "execution_count": 88,
     "metadata": {},
     "output_type": "execute_result"
    }
   ],
   "source": [
    "knn.score(X_test, y_test)"
   ]
  },
  {
   "cell_type": "markdown",
   "metadata": {},
   "source": [
    "# Find another method for modeling"
   ]
  },
  {
   "cell_type": "code",
   "execution_count": null,
   "metadata": {},
   "outputs": [],
   "source": [
    "dummy = pd.get_dummies(hsi2['Category'])"
   ]
  },
  {
   "cell_type": "code",
   "execution_count": null,
   "metadata": {},
   "outputs": [],
   "source": [
    "hsi3 = pd.concat([hsi2, dummy], axis=1)\n",
    "hsi3.head()"
   ]
  },
  {
   "cell_type": "code",
   "execution_count": null,
   "metadata": {},
   "outputs": [],
   "source": []
  },
  {
   "cell_type": "code",
   "execution_count": null,
   "metadata": {},
   "outputs": [],
   "source": []
  },
  {
   "cell_type": "markdown",
   "metadata": {},
   "source": [
    "# Using Clustering to predict storm category"
   ]
  },
  {
   "cell_type": "code",
   "execution_count": null,
   "metadata": {},
   "outputs": [],
   "source": [
    "from sklearn.cluster import KMeans"
   ]
  },
  {
   "cell_type": "code",
   "execution_count": null,
   "metadata": {},
   "outputs": [],
   "source": []
  }
 ],
 "metadata": {
  "kernelspec": {
   "display_name": "Python 3",
   "language": "python",
   "name": "python3"
  },
  "language_info": {
   "codemirror_mode": {
    "name": "ipython",
    "version": 3
   },
   "file_extension": ".py",
   "mimetype": "text/x-python",
   "name": "python",
   "nbconvert_exporter": "python",
   "pygments_lexer": "ipython3",
   "version": "3.7.6"
  }
 },
 "nbformat": 4,
 "nbformat_minor": 4
}
