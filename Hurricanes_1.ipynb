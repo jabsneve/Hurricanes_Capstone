{
 "cells": [
  {
   "cell_type": "code",
   "execution_count": 1,
   "metadata": {},
   "outputs": [],
   "source": [
    "# import necessary packages\n",
    "\n",
    "import pandas as pd\n",
    "import matplotlib.pyplot as plt\n",
    "import seaborn as sns\n",
    "sns.set()\n",
    "from datetime import datetime as dt\n",
    "import numpy as np\n",
    "import pandas_profiling\n",
    "import math\n",
    "import xarray"
   ]
  },
  {
   "cell_type": "code",
   "execution_count": 2,
   "metadata": {},
   "outputs": [],
   "source": [
    "# import hurricane data from csv\n",
    "\n",
    "hurdat = pd.read_csv(r\"C:/Users/jacks/Documents/Springboard/hurricanes_capstone/HURDAT2 Data.csv\")"
   ]
  },
  {
   "cell_type": "code",
   "execution_count": null,
   "metadata": {},
   "outputs": [],
   "source": [
    "#hurdat.head()"
   ]
  },
  {
   "cell_type": "code",
   "execution_count": null,
   "metadata": {},
   "outputs": [],
   "source": [
    "#hurdat.shape"
   ]
  },
  {
   "cell_type": "code",
   "execution_count": null,
   "metadata": {},
   "outputs": [],
   "source": [
    "#hurdat.info()"
   ]
  },
  {
   "cell_type": "code",
   "execution_count": 3,
   "metadata": {},
   "outputs": [],
   "source": [
    "# fix date column\n",
    "\n",
    "hurdat['Date'] = pd.to_datetime(hurdat['Date'],errors='coerce',yearfirst=False)"
   ]
  },
  {
   "cell_type": "code",
   "execution_count": 4,
   "metadata": {},
   "outputs": [],
   "source": [
    "# fix the name column\n",
    "# remove whitespace and capitalize the first letter of each name\n",
    "\n",
    "name_col = [name.title() for name in list(hurdat['Name'].str.lstrip())]\n",
    "\n",
    "# create a list of names called 'new_names'\n",
    "# make each 'FALSE' the preceeding name until the next name\n",
    "\n",
    "new_names = []\n",
    "name = ''\n",
    "\n",
    "for x in name_col:\n",
    "    if x != 'False':\n",
    "        new_names.append(x)\n",
    "        name = x\n",
    "    else:\n",
    "        new_names.append(name)\n",
    "        \n",
    "# add Storm Names column\n",
    "\n",
    "hurdat['Storm_Name'] = new_names\n",
    "\n",
    "# remove the Name column\n",
    "\n",
    "hurdat.drop('Name',axis=1,inplace=True)"
   ]
  },
  {
   "cell_type": "code",
   "execution_count": 5,
   "metadata": {},
   "outputs": [],
   "source": [
    "# remove rows with excessive NaN values\n",
    "# without doing this I am unable to change the Year datatype\n",
    "\n",
    "hurdat.dropna(axis=0,thresh=10,inplace=True)"
   ]
  },
  {
   "cell_type": "code",
   "execution_count": 6,
   "metadata": {},
   "outputs": [],
   "source": [
    "# extract year from date column and create Year column as int datatype\n",
    "\n",
    "hurdat['Year'] = pd.array([i.year for i in hurdat.Date], dtype='int')"
   ]
  },
  {
   "cell_type": "code",
   "execution_count": 7,
   "metadata": {},
   "outputs": [],
   "source": [
    "# rearrange the columns\n",
    "\n",
    "hurdat = hurdat.reindex(columns = ['Year','Storm_Name','Time','Date','Status','Lat','Long','Maximum sustained wind','Minimum Pressure','34 kt radii NE','34 kt radii SE','34 kt radii SW','34 kt radii NW','50 kt radii NE','50 kt radii SE','50 kt radii SW','50 kt radii NW','64 kt radii NE','64 kt radii SE','64 kt radii SW','64 kt radii NW','87 kt radii NE (est)','87 kt radii SE (est)','87 kt radii SW (est)','87 kt radii NW (est)'])"
   ]
  },
  {
   "cell_type": "code",
   "execution_count": 8,
   "metadata": {},
   "outputs": [],
   "source": [
    "# make multi-index with Year and Storm_Name\n",
    "\n",
    "hurdat = hurdat.set_index(['Year'])"
   ]
  },
  {
   "cell_type": "code",
   "execution_count": 9,
   "metadata": {},
   "outputs": [],
   "source": [
    "# change column names to names easier to work with\n",
    "\n",
    "hurdat.columns = ['Storm_Name','Time','Date', 'Status', 'Lat', 'Long', 'Max_Wind',\n",
    "       'Min_Pressure', 'ne_34_kt', 'se_34_kt',\n",
    "       'sw_34_kt', 'nw_34_kt', 'ne_50_kt', 'se_50_kt',\n",
    "       'sw_50_kt', 'nw_50_kt', 'ne_64_kt', 'se_64_kt',\n",
    "       'sw_64_kt', 'nw_64_kt', 'ne_87_kt', 'se_87_kt',\n",
    "       'sw_87_kt', 'nw_87_kt']"
   ]
  },
  {
   "cell_type": "code",
   "execution_count": 10,
   "metadata": {},
   "outputs": [],
   "source": [
    "# remove negative values from the radii\n",
    "\n",
    "hurdat['ne_34_kt'].clip(lower=0, inplace=True)\n",
    "hurdat['se_34_kt'].clip(lower=0, inplace=True)\n",
    "hurdat['sw_34_kt'].clip(lower=0, inplace=True)\n",
    "hurdat['nw_34_kt'].clip(lower=0, inplace=True)\n",
    "hurdat['ne_50_kt'].clip(lower=0, inplace=True)\n",
    "hurdat['se_50_kt'].clip(lower=0, inplace=True)\n",
    "hurdat['sw_50_kt'].clip(lower=0, inplace=True)\n",
    "hurdat['nw_50_kt'].clip(lower=0, inplace=True)\n",
    "hurdat['ne_64_kt'].clip(lower=0, inplace=True)\n",
    "hurdat['se_64_kt'].clip(lower=0, inplace=True)\n",
    "hurdat['sw_64_kt'].clip(lower=0, inplace=True)\n",
    "hurdat['nw_64_kt'].clip(lower=0, inplace=True)\n",
    "hurdat['ne_87_kt'].clip(lower=0, inplace=True)\n",
    "hurdat['se_87_kt'].clip(lower=0, inplace=True)\n",
    "hurdat['sw_87_kt'].clip(lower=0, inplace=True)\n",
    "hurdat['nw_87_kt'].clip(lower=0, inplace=True)"
   ]
  },
  {
   "cell_type": "code",
   "execution_count": 11,
   "metadata": {},
   "outputs": [],
   "source": [
    "# caluculate effective radius for each wind threshold\n",
    "# eff_rad_* function calculates the Effective Radius for the 4 wind thresholds\n",
    "# the value output is in nautical miles\n",
    "\n",
    "def eff_rad_34(x):\n",
    "    if x['Max_Wind']>=34:\n",
    "        num = (0.5*(math.sqrt((x['ne_34_kt']**2) + (x['se_34_kt']**2) + (x['sw_34_kt']**2) + (x['nw_34_kt']**2))))\n",
    "        return round(num,2)\n",
    "\n",
    "def eff_rad_50(x):\n",
    "    if x['Max_Wind']>=50:\n",
    "        num = (0.5*(math.sqrt((x['ne_50_kt']**2) + (x['se_50_kt']**2) + (x['sw_50_kt']**2) + (x['nw_50_kt']**2))))\n",
    "        return round(num,2)\n",
    "\n",
    "def eff_rad_64(x):\n",
    "    if x['Max_Wind']>=64:\n",
    "        num = (0.5*(math.sqrt((x['ne_64_kt']**2) + (x['se_64_kt']**2) + (x['sw_64_kt']**2) + (x['nw_64_kt']**2))))\n",
    "        return round(num,2)\n",
    "    \n",
    "def eff_rad_87(x):\n",
    "    if x['Max_Wind']>=87:\n",
    "        num = (0.5*(math.sqrt((x['ne_87_kt']**2) + (x['se_87_kt']**2) + (x['sw_87_kt']**2) + (x['nw_87_kt']**2))))\n",
    "        return round(num,2)"
   ]
  },
  {
   "cell_type": "code",
   "execution_count": 12,
   "metadata": {},
   "outputs": [],
   "source": [
    "# use .apply function to create new columns\n",
    "\n",
    "hurdat['eff_rad_34']=hurdat.apply(eff_rad_34, axis=1)\n",
    "hurdat['eff_rad_50']=hurdat.apply(eff_rad_50, axis=1)\n",
    "hurdat['eff_rad_64']=hurdat.apply(eff_rad_64, axis=1)\n",
    "hurdat['eff_rad_87']=hurdat.apply(eff_rad_87, axis=1)"
   ]
  },
  {
   "cell_type": "code",
   "execution_count": 13,
   "metadata": {},
   "outputs": [],
   "source": [
    "# change NaN values in eff_rad_* columns to 0.0\n",
    "\n",
    "hurdat['eff_rad_34']=hurdat['eff_rad_34'].fillna(0.0)\n",
    "hurdat['eff_rad_50']=hurdat['eff_rad_50'].fillna(0.0)\n",
    "hurdat['eff_rad_64']=hurdat['eff_rad_64'].fillna(0.0)\n",
    "hurdat['eff_rad_87']=hurdat['eff_rad_87'].fillna(0.0)"
   ]
  },
  {
   "cell_type": "code",
   "execution_count": 14,
   "metadata": {},
   "outputs": [
    {
     "data": {
      "text/plain": [
       "2.9043142926006267"
      ]
     },
     "execution_count": 14,
     "metadata": {},
     "output_type": "execute_result"
    }
   ],
   "source": [
    "# count the number of Time observations that are not 0, 600, 1200, 1800\n",
    "\n",
    "# define list of times\n",
    "\n",
    "times = ['0','600','1200','1800']\n",
    "\n",
    "# create a list of observations not in 'times' \n",
    "\n",
    "off_times = [x for x in hurdat['Time'] if x not in times]   \n",
    "\n",
    "# find the percentage of observations with off_times\n",
    "\n",
    "(len(off_times)/len(hurdat['Time']))*100"
   ]
  },
  {
   "cell_type": "code",
   "execution_count": 15,
   "metadata": {},
   "outputs": [
    {
     "name": "stdout",
     "output_type": "stream",
     "text": [
      "93 / 241\n"
     ]
    },
    {
     "data": {
      "text/plain": [
       "38.589211618257266"
      ]
     },
     "execution_count": 15,
     "metadata": {},
     "output_type": "execute_result"
    }
   ],
   "source": [
    "# observe data for rows that are in 'off_times'\n",
    "\n",
    "off_times_df = hurdat[hurdat['Time'].isin(off_times)]\n",
    "\n",
    "\n",
    "# find the percentage of observations for err_rad_* in off_times_df are 0 or 999\n",
    "\n",
    "print(str(off_times_df[off_times_df['eff_rad_34'].isin([0.00, 999.0])].eff_rad_34.count())+' / '+str(len(off_times)))\n",
    "\n",
    "((off_times_df[off_times_df['eff_rad_34'].isin([0.00, 999.0])].eff_rad_34.count())/len(off_times))*100"
   ]
  },
  {
   "cell_type": "code",
   "execution_count": 16,
   "metadata": {},
   "outputs": [],
   "source": [
    "# a large percentage of rows that are not at 0, 600, 1200, or 1800 have erroneous data\n",
    "# remove those rows whose time is not == 0, 600, 1200, 0r 1800\n",
    "\n",
    "hurdat = hurdat[hurdat['Time'].isin(['0','600','1200','1800'])]"
   ]
  },
  {
   "cell_type": "code",
   "execution_count": 17,
   "metadata": {},
   "outputs": [
    {
     "name": "stdout",
     "output_type": "stream",
     "text": [
      "['TD' 'TS' 'HU']\n"
     ]
    }
   ],
   "source": [
    "# strip whitespace in front of statuses\n",
    "\n",
    "hurdat.Status = hurdat.Status.str.strip()\n",
    "\n",
    "# remove storms that aren't a tropical depression, tropical storm, or hurricane\n",
    "\n",
    "drop_status=['EX','WV','LO','SS','SD','DB']\n",
    "hurdat = hurdat[~hurdat['Status'].isin(drop_status)]\n",
    "print(hurdat.Status.unique())"
   ]
  },
  {
   "cell_type": "code",
   "execution_count": 18,
   "metadata": {},
   "outputs": [],
   "source": [
    "# remove the N and W from the lat and long\n",
    "\n",
    "hurdat['Lat'] = hurdat['Lat'].str.strip(to_strip='N')\n",
    "hurdat['Long'] = hurdat['Long'].str.strip(to_strip='W')"
   ]
  },
  {
   "cell_type": "code",
   "execution_count": 19,
   "metadata": {},
   "outputs": [],
   "source": [
    "# change the lat and long to numeric data\n",
    "\n",
    "hurdat['Lat'] = hurdat['Lat'].astype('float64')\n",
    "hurdat['Long'] = hurdat['Long'].astype('float64')"
   ]
  },
  {
   "cell_type": "code",
   "execution_count": 20,
   "metadata": {},
   "outputs": [],
   "source": [
    "# convert Long coordinates to 360 degree scale\n",
    "\n",
    "hurdat['Long'] = 359-hurdat['Long']"
   ]
  },
  {
   "cell_type": "code",
   "execution_count": 21,
   "metadata": {},
   "outputs": [
    {
     "name": "stdout",
     "output_type": "stream",
     "text": [
      "[(0, 'Storm_Name'), (1, 'Time'), (2, 'Date'), (3, 'Status'), (4, 'Lat'), (5, 'Long'), (6, 'Max_Wind'), (7, 'Min_Pressure'), (8, 'ne_34_kt'), (9, 'se_34_kt'), (10, 'sw_34_kt'), (11, 'nw_34_kt'), (12, 'ne_50_kt'), (13, 'se_50_kt'), (14, 'sw_50_kt'), (15, 'nw_50_kt'), (16, 'ne_64_kt'), (17, 'se_64_kt'), (18, 'sw_64_kt'), (19, 'nw_64_kt'), (20, 'ne_87_kt'), (21, 'se_87_kt'), (22, 'sw_87_kt'), (23, 'nw_87_kt'), (24, 'eff_rad_34'), (25, 'eff_rad_50'), (26, 'eff_rad_64'), (27, 'eff_rad_87')]\n"
     ]
    }
   ],
   "source": [
    "# enumerate through the columns to help slice with .iloc\n",
    "\n",
    "print(list(enumerate(hurdat.columns)))"
   ]
  },
  {
   "cell_type": "code",
   "execution_count": 22,
   "metadata": {},
   "outputs": [],
   "source": [
    "# create a new dataframe without wind columns as they are no longer necessary for creating the HSI variable\n",
    "\n",
    "hsi = hurdat.drop(hurdat.iloc[:, 8:24], axis=1)"
   ]
  },
  {
   "cell_type": "code",
   "execution_count": 23,
   "metadata": {},
   "outputs": [],
   "source": [
    "# define a function to assign intensity points\n",
    "\n",
    "def intensity(df):\n",
    "    if df['Max_Wind']<30:\n",
    "        return 0\n",
    "    elif df['Max_Wind']>=30 and df['Max_Wind']<=150:\n",
    "        return round((df['Max_Wind']/30)**2,2)\n",
    "    else:\n",
    "        return 25"
   ]
  },
  {
   "cell_type": "code",
   "execution_count": 24,
   "metadata": {},
   "outputs": [],
   "source": [
    "# create intensity list to insert \n",
    "\n",
    "intensity = list(hsi.apply(intensity, axis=1))\n",
    "\n",
    "# insert the intensity list as Intensity_pts column\n",
    "\n",
    "hsi.insert(8, 'Intensity_pts', intensity, True)"
   ]
  },
  {
   "cell_type": "code",
   "execution_count": 25,
   "metadata": {},
   "outputs": [
    {
     "data": {
      "text/html": [
       "<div>\n",
       "<style scoped>\n",
       "    .dataframe tbody tr th:only-of-type {\n",
       "        vertical-align: middle;\n",
       "    }\n",
       "\n",
       "    .dataframe tbody tr th {\n",
       "        vertical-align: top;\n",
       "    }\n",
       "\n",
       "    .dataframe thead th {\n",
       "        text-align: right;\n",
       "    }\n",
       "</style>\n",
       "<table border=\"1\" class=\"dataframe\">\n",
       "  <thead>\n",
       "    <tr style=\"text-align: right;\">\n",
       "      <th></th>\n",
       "      <th>Lat</th>\n",
       "      <th>Long</th>\n",
       "      <th>Max_Wind</th>\n",
       "      <th>Min_Pressure</th>\n",
       "      <th>Intensity_pts</th>\n",
       "      <th>eff_rad_34</th>\n",
       "      <th>eff_rad_50</th>\n",
       "      <th>eff_rad_64</th>\n",
       "      <th>eff_rad_87</th>\n",
       "    </tr>\n",
       "  </thead>\n",
       "  <tbody>\n",
       "    <tr>\n",
       "      <th>count</th>\n",
       "      <td>5538.000000</td>\n",
       "      <td>5538.000000</td>\n",
       "      <td>5538.000000</td>\n",
       "      <td>5538.000000</td>\n",
       "      <td>5538.000000</td>\n",
       "      <td>5538.000000</td>\n",
       "      <td>5538.000000</td>\n",
       "      <td>5538.000000</td>\n",
       "      <td>5538.000000</td>\n",
       "    </tr>\n",
       "    <tr>\n",
       "      <th>mean</th>\n",
       "      <td>24.253810</td>\n",
       "      <td>296.762170</td>\n",
       "      <td>55.678043</td>\n",
       "      <td>990.046407</td>\n",
       "      <td>4.185542</td>\n",
       "      <td>75.297347</td>\n",
       "      <td>26.045479</td>\n",
       "      <td>9.945107</td>\n",
       "      <td>2.764592</td>\n",
       "    </tr>\n",
       "    <tr>\n",
       "      <th>std</th>\n",
       "      <td>8.265535</td>\n",
       "      <td>19.813557</td>\n",
       "      <td>26.473478</td>\n",
       "      <td>20.504170</td>\n",
       "      <td>4.346416</td>\n",
       "      <td>61.119528</td>\n",
       "      <td>33.483274</td>\n",
       "      <td>18.254421</td>\n",
       "      <td>7.988081</td>\n",
       "    </tr>\n",
       "    <tr>\n",
       "      <th>min</th>\n",
       "      <td>7.700000</td>\n",
       "      <td>254.000000</td>\n",
       "      <td>15.000000</td>\n",
       "      <td>882.000000</td>\n",
       "      <td>0.000000</td>\n",
       "      <td>0.000000</td>\n",
       "      <td>0.000000</td>\n",
       "      <td>0.000000</td>\n",
       "      <td>0.000000</td>\n",
       "    </tr>\n",
       "    <tr>\n",
       "      <th>25%</th>\n",
       "      <td>17.125000</td>\n",
       "      <td>280.700000</td>\n",
       "      <td>35.000000</td>\n",
       "      <td>982.000000</td>\n",
       "      <td>1.360000</td>\n",
       "      <td>31.820000</td>\n",
       "      <td>0.000000</td>\n",
       "      <td>0.000000</td>\n",
       "      <td>0.000000</td>\n",
       "    </tr>\n",
       "    <tr>\n",
       "      <th>50%</th>\n",
       "      <td>23.900000</td>\n",
       "      <td>295.900000</td>\n",
       "      <td>50.000000</td>\n",
       "      <td>997.000000</td>\n",
       "      <td>2.780000</td>\n",
       "      <td>66.330000</td>\n",
       "      <td>10.610000</td>\n",
       "      <td>0.000000</td>\n",
       "      <td>0.000000</td>\n",
       "    </tr>\n",
       "    <tr>\n",
       "      <th>75%</th>\n",
       "      <td>30.700000</td>\n",
       "      <td>312.700000</td>\n",
       "      <td>70.000000</td>\n",
       "      <td>1005.000000</td>\n",
       "      <td>5.440000</td>\n",
       "      <td>111.360000</td>\n",
       "      <td>45.280000</td>\n",
       "      <td>15.000000</td>\n",
       "      <td>0.000000</td>\n",
       "    </tr>\n",
       "    <tr>\n",
       "      <th>max</th>\n",
       "      <td>48.800000</td>\n",
       "      <td>353.000000</td>\n",
       "      <td>160.000000</td>\n",
       "      <td>1017.000000</td>\n",
       "      <td>25.000000</td>\n",
       "      <td>415.090000</td>\n",
       "      <td>196.530000</td>\n",
       "      <td>117.150000</td>\n",
       "      <td>48.870000</td>\n",
       "    </tr>\n",
       "  </tbody>\n",
       "</table>\n",
       "</div>"
      ],
      "text/plain": [
       "               Lat         Long     Max_Wind  Min_Pressure  Intensity_pts  \\\n",
       "count  5538.000000  5538.000000  5538.000000   5538.000000    5538.000000   \n",
       "mean     24.253810   296.762170    55.678043    990.046407       4.185542   \n",
       "std       8.265535    19.813557    26.473478     20.504170       4.346416   \n",
       "min       7.700000   254.000000    15.000000    882.000000       0.000000   \n",
       "25%      17.125000   280.700000    35.000000    982.000000       1.360000   \n",
       "50%      23.900000   295.900000    50.000000    997.000000       2.780000   \n",
       "75%      30.700000   312.700000    70.000000   1005.000000       5.440000   \n",
       "max      48.800000   353.000000   160.000000   1017.000000      25.000000   \n",
       "\n",
       "        eff_rad_34   eff_rad_50   eff_rad_64   eff_rad_87  \n",
       "count  5538.000000  5538.000000  5538.000000  5538.000000  \n",
       "mean     75.297347    26.045479     9.945107     2.764592  \n",
       "std      61.119528    33.483274    18.254421     7.988081  \n",
       "min       0.000000     0.000000     0.000000     0.000000  \n",
       "25%      31.820000     0.000000     0.000000     0.000000  \n",
       "50%      66.330000    10.610000     0.000000     0.000000  \n",
       "75%     111.360000    45.280000    15.000000     0.000000  \n",
       "max     415.090000   196.530000   117.150000    48.870000  "
      ]
     },
     "execution_count": 25,
     "metadata": {},
     "output_type": "execute_result"
    }
   ],
   "source": [
    "hsi.describe()"
   ]
  },
  {
   "cell_type": "markdown",
   "metadata": {},
   "source": [
    "In order to be able to calculate the hurricane severity we must first have winds >= 30kts to register on the Intensity 25 point scale\n",
    "\n",
    "This means we can drop the observations with winds below 30kts"
   ]
  },
  {
   "cell_type": "code",
   "execution_count": 26,
   "metadata": {},
   "outputs": [],
   "source": [
    "# drop all observations with a max wind < 30kts\n",
    "\n",
    "hsi = hsi.loc[hsi['Max_Wind']>=30]"
   ]
  },
  {
   "cell_type": "code",
   "execution_count": 27,
   "metadata": {},
   "outputs": [
    {
     "data": {
      "text/html": [
       "<div>\n",
       "<style scoped>\n",
       "    .dataframe tbody tr th:only-of-type {\n",
       "        vertical-align: middle;\n",
       "    }\n",
       "\n",
       "    .dataframe tbody tr th {\n",
       "        vertical-align: top;\n",
       "    }\n",
       "\n",
       "    .dataframe thead th {\n",
       "        text-align: right;\n",
       "    }\n",
       "</style>\n",
       "<table border=\"1\" class=\"dataframe\">\n",
       "  <thead>\n",
       "    <tr style=\"text-align: right;\">\n",
       "      <th></th>\n",
       "      <th>Lat</th>\n",
       "      <th>Long</th>\n",
       "      <th>Max_Wind</th>\n",
       "      <th>Min_Pressure</th>\n",
       "      <th>Intensity_pts</th>\n",
       "      <th>eff_rad_34</th>\n",
       "      <th>eff_rad_50</th>\n",
       "      <th>eff_rad_64</th>\n",
       "      <th>eff_rad_87</th>\n",
       "    </tr>\n",
       "  </thead>\n",
       "  <tbody>\n",
       "    <tr>\n",
       "      <th>count</th>\n",
       "      <td>5246.000000</td>\n",
       "      <td>5246.000000</td>\n",
       "      <td>5246.000000</td>\n",
       "      <td>5246.000000</td>\n",
       "      <td>5246.000000</td>\n",
       "      <td>5246.000000</td>\n",
       "      <td>5246.000000</td>\n",
       "      <td>5246.000000</td>\n",
       "      <td>5246.000000</td>\n",
       "    </tr>\n",
       "    <tr>\n",
       "      <th>mean</th>\n",
       "      <td>24.196359</td>\n",
       "      <td>297.307015</td>\n",
       "      <td>57.446626</td>\n",
       "      <td>989.111132</td>\n",
       "      <td>4.418515</td>\n",
       "      <td>79.488507</td>\n",
       "      <td>27.495208</td>\n",
       "      <td>10.498666</td>\n",
       "      <td>2.918473</td>\n",
       "    </tr>\n",
       "    <tr>\n",
       "      <th>std</th>\n",
       "      <td>8.225277</td>\n",
       "      <td>19.484104</td>\n",
       "      <td>26.080182</td>\n",
       "      <td>20.641486</td>\n",
       "      <td>4.348960</td>\n",
       "      <td>60.086209</td>\n",
       "      <td>33.818294</td>\n",
       "      <td>18.600064</td>\n",
       "      <td>8.180016</td>\n",
       "    </tr>\n",
       "    <tr>\n",
       "      <th>min</th>\n",
       "      <td>7.700000</td>\n",
       "      <td>257.100000</td>\n",
       "      <td>30.000000</td>\n",
       "      <td>882.000000</td>\n",
       "      <td>1.000000</td>\n",
       "      <td>0.000000</td>\n",
       "      <td>0.000000</td>\n",
       "      <td>0.000000</td>\n",
       "      <td>0.000000</td>\n",
       "    </tr>\n",
       "    <tr>\n",
       "      <th>25%</th>\n",
       "      <td>17.200000</td>\n",
       "      <td>281.800000</td>\n",
       "      <td>35.000000</td>\n",
       "      <td>980.000000</td>\n",
       "      <td>1.360000</td>\n",
       "      <td>37.750000</td>\n",
       "      <td>0.000000</td>\n",
       "      <td>0.000000</td>\n",
       "      <td>0.000000</td>\n",
       "    </tr>\n",
       "    <tr>\n",
       "      <th>50%</th>\n",
       "      <td>23.800000</td>\n",
       "      <td>296.400000</td>\n",
       "      <td>50.000000</td>\n",
       "      <td>996.000000</td>\n",
       "      <td>2.780000</td>\n",
       "      <td>70.710000</td>\n",
       "      <td>15.000000</td>\n",
       "      <td>0.000000</td>\n",
       "      <td>0.000000</td>\n",
       "    </tr>\n",
       "    <tr>\n",
       "      <th>75%</th>\n",
       "      <td>30.500000</td>\n",
       "      <td>312.700000</td>\n",
       "      <td>70.000000</td>\n",
       "      <td>1005.000000</td>\n",
       "      <td>5.440000</td>\n",
       "      <td>114.020000</td>\n",
       "      <td>47.430000</td>\n",
       "      <td>17.320000</td>\n",
       "      <td>0.000000</td>\n",
       "    </tr>\n",
       "    <tr>\n",
       "      <th>max</th>\n",
       "      <td>48.800000</td>\n",
       "      <td>353.000000</td>\n",
       "      <td>160.000000</td>\n",
       "      <td>1015.000000</td>\n",
       "      <td>25.000000</td>\n",
       "      <td>415.090000</td>\n",
       "      <td>196.530000</td>\n",
       "      <td>117.150000</td>\n",
       "      <td>48.870000</td>\n",
       "    </tr>\n",
       "  </tbody>\n",
       "</table>\n",
       "</div>"
      ],
      "text/plain": [
       "               Lat         Long     Max_Wind  Min_Pressure  Intensity_pts  \\\n",
       "count  5246.000000  5246.000000  5246.000000   5246.000000    5246.000000   \n",
       "mean     24.196359   297.307015    57.446626    989.111132       4.418515   \n",
       "std       8.225277    19.484104    26.080182     20.641486       4.348960   \n",
       "min       7.700000   257.100000    30.000000    882.000000       1.000000   \n",
       "25%      17.200000   281.800000    35.000000    980.000000       1.360000   \n",
       "50%      23.800000   296.400000    50.000000    996.000000       2.780000   \n",
       "75%      30.500000   312.700000    70.000000   1005.000000       5.440000   \n",
       "max      48.800000   353.000000   160.000000   1015.000000      25.000000   \n",
       "\n",
       "        eff_rad_34   eff_rad_50   eff_rad_64   eff_rad_87  \n",
       "count  5246.000000  5246.000000  5246.000000  5246.000000  \n",
       "mean     79.488507    27.495208    10.498666     2.918473  \n",
       "std      60.086209    33.818294    18.600064     8.180016  \n",
       "min       0.000000     0.000000     0.000000     0.000000  \n",
       "25%      37.750000     0.000000     0.000000     0.000000  \n",
       "50%      70.710000    15.000000     0.000000     0.000000  \n",
       "75%     114.020000    47.430000    17.320000     0.000000  \n",
       "max     415.090000   196.530000   117.150000    48.870000  "
      ]
     },
     "execution_count": 27,
     "metadata": {},
     "output_type": "execute_result"
    }
   ],
   "source": [
    "hsi.describe()"
   ]
  },
  {
   "cell_type": "code",
   "execution_count": 28,
   "metadata": {},
   "outputs": [
    {
     "name": "stdout",
     "output_type": "stream",
     "text": [
      "count    4506.000000\n",
      "mean       92.542545\n",
      "std        54.727269\n",
      "min         7.070000\n",
      "25%        50.990000\n",
      "50%        81.820000\n",
      "75%       123.690000\n",
      "max       415.090000\n",
      "Name: eff_rad_34, dtype: float64\n",
      "count    2826.000000\n",
      "mean       51.040290\n",
      "std        30.351606\n",
      "min         3.540000\n",
      "25%        28.280000\n",
      "50%        45.000000\n",
      "75%        67.640000\n",
      "max       196.530000\n",
      "Name: eff_rad_50, dtype: float64\n",
      "count    1711.000000\n",
      "mean       32.189363\n",
      "std        19.040368\n",
      "min         5.000000\n",
      "25%        17.680000\n",
      "50%        27.610000\n",
      "75%        42.870000\n",
      "max       117.150000\n",
      "Name: eff_rad_64, dtype: float64\n",
      "count    729.000000\n",
      "mean      21.001797\n",
      "std       10.088591\n",
      "min        3.670000\n",
      "25%       12.990000\n",
      "50%       19.680000\n",
      "75%       27.070000\n",
      "max       48.870000\n",
      "Name: eff_rad_87, dtype: float64\n"
     ]
    }
   ],
   "source": [
    "# make a series of eff_rad_34 values without 0\n",
    "\n",
    "print(hsi[hsi['eff_rad_34']>0].eff_rad_34.sort_values().describe())\n",
    "print(hsi[hsi['eff_rad_50']>0].eff_rad_50.sort_values().describe())\n",
    "print(hsi[hsi['eff_rad_64']>0].eff_rad_64.sort_values().describe())\n",
    "print(hsi[hsi['eff_rad_87']>0].eff_rad_87.sort_values().describe())"
   ]
  },
  {
   "cell_type": "code",
   "execution_count": 29,
   "metadata": {},
   "outputs": [
    {
     "data": {
      "image/png": "[encoded data removed]",
      "text/plain": [
       "<Figure size 1152x576 with 1 Axes>"
      ]
     },
     "metadata": {},
     "output_type": "display_data"
    }
   ],
   "source": [
    "plt.figure(figsize=(16,8))\n",
    "sns.kdeplot(data=hsi[hsi['eff_rad_34']>0].eff_rad_34, label='34kt radius')\n",
    "sns.kdeplot(data=hsi[hsi['eff_rad_50']>0].eff_rad_50, label='50kt radius')\n",
    "sns.kdeplot(data=hsi[hsi['eff_rad_64']>0].eff_rad_64, label='64kt radius')\n",
    "sns.kdeplot(data=hsi[hsi['eff_rad_87']>0].eff_rad_87, label='87kt radius')\n",
    "\n",
    "plt.xlabel('Eff. Radius (km)')\n",
    "plt.ylabel('Density (observations)')\n",
    "plt.title('Density of Eff. Radius')\n",
    "plt.legend()\n",
    "\n",
    "#plt.tight_layout\n",
    "plt.show()"
   ]
  },
  {
   "cell_type": "markdown",
   "metadata": {},
   "source": [
    "The range of values for 34kt effective radius is 7.07 - 415.09 and the range for intesity points for 34kt radius is 0-3. Therefore 0:7.07 and 3:408.02. Subtract 7.07 from each ratio and 0:0 and 3:408.02\n",
    "\n",
    "To find the size points for observations of 34kt effective radius take the effective radius value, multiply it by 3, and divide by 408.02\n",
    "\n",
    "The same calculations were performed on each respective effective radius"
   ]
  },
  {
   "cell_type": "code",
   "execution_count": 30,
   "metadata": {},
   "outputs": [],
   "source": [
    "# define a function to calculate size points\n",
    "\n",
    "def size_pts(df):\n",
    "    if df['eff_rad_34']>0:\n",
    "        pts_34 = 3*df['eff_rad_34']/408.02\n",
    "        if df['eff_rad_50']>0:\n",
    "            pts_50 = 4*df['eff_rad_50']/192.99\n",
    "            if df['eff_rad_64']>0:\n",
    "                pts_64 = 8*df['eff_rad_64']/112.15\n",
    "                if df['eff_rad_87']>0:\n",
    "                    pts_87 = 10*df['eff_rad_87']/45.2\n",
    "                    return pts_34+pts_50+pts_64+pts_87     "
   ]
  },
  {
   "cell_type": "code",
   "execution_count": 31,
   "metadata": {},
   "outputs": [],
   "source": [
    "# insert the Size_pts column based on the results from the size_pts function\n",
    "\n",
    "hsi.insert(9,'Size_pts', list(hsi.apply(size_pts, axis=1)), True)"
   ]
  },
  {
   "cell_type": "code",
   "execution_count": 32,
   "metadata": {},
   "outputs": [],
   "source": [
    "# replace NaN values with 0\n",
    "\n",
    "hsi['Size_pts'].fillna(value=0, inplace=True)"
   ]
  },
  {
   "cell_type": "code",
   "execution_count": 33,
   "metadata": {},
   "outputs": [],
   "source": [
    "# create Severity column by adding Intensity pts and Size pts\n",
    "\n",
    "hsi.insert(10, 'Severity', hsi['Intensity_pts']+hsi['Size_pts'], True)"
   ]
  },
  {
   "cell_type": "code",
   "execution_count": 34,
   "metadata": {},
   "outputs": [
    {
     "data": {
      "text/html": [
       "<div>\n",
       "<style scoped>\n",
       "    .dataframe tbody tr th:only-of-type {\n",
       "        vertical-align: middle;\n",
       "    }\n",
       "\n",
       "    .dataframe tbody tr th {\n",
       "        vertical-align: top;\n",
       "    }\n",
       "\n",
       "    .dataframe thead th {\n",
       "        text-align: right;\n",
       "    }\n",
       "</style>\n",
       "<table border=\"1\" class=\"dataframe\">\n",
       "  <thead>\n",
       "    <tr style=\"text-align: right;\">\n",
       "      <th></th>\n",
       "      <th>Storm_Name</th>\n",
       "      <th>Time</th>\n",
       "      <th>Date</th>\n",
       "      <th>Status</th>\n",
       "      <th>Lat</th>\n",
       "      <th>Long</th>\n",
       "      <th>Max_Wind</th>\n",
       "      <th>Min_Pressure</th>\n",
       "      <th>Intensity_pts</th>\n",
       "      <th>Size_pts</th>\n",
       "      <th>Severity</th>\n",
       "      <th>eff_rad_34</th>\n",
       "      <th>eff_rad_50</th>\n",
       "      <th>eff_rad_64</th>\n",
       "      <th>eff_rad_87</th>\n",
       "    </tr>\n",
       "    <tr>\n",
       "      <th>Year</th>\n",
       "      <th></th>\n",
       "      <th></th>\n",
       "      <th></th>\n",
       "      <th></th>\n",
       "      <th></th>\n",
       "      <th></th>\n",
       "      <th></th>\n",
       "      <th></th>\n",
       "      <th></th>\n",
       "      <th></th>\n",
       "      <th></th>\n",
       "      <th></th>\n",
       "      <th></th>\n",
       "      <th></th>\n",
       "      <th></th>\n",
       "    </tr>\n",
       "  </thead>\n",
       "  <tbody>\n",
       "    <tr>\n",
       "      <th>2004</th>\n",
       "      <td>Alex</td>\n",
       "      <td>1200</td>\n",
       "      <td>2004-08-01</td>\n",
       "      <td>TD</td>\n",
       "      <td>31.6</td>\n",
       "      <td>279.9</td>\n",
       "      <td>30.0</td>\n",
       "      <td>1009.0</td>\n",
       "      <td>1.00</td>\n",
       "      <td>0.0</td>\n",
       "      <td>1.00</td>\n",
       "      <td>0.00</td>\n",
       "      <td>0.00</td>\n",
       "      <td>0.0</td>\n",
       "      <td>0.0</td>\n",
       "    </tr>\n",
       "    <tr>\n",
       "      <th>2004</th>\n",
       "      <td>Alex</td>\n",
       "      <td>1800</td>\n",
       "      <td>2004-08-01</td>\n",
       "      <td>TS</td>\n",
       "      <td>31.6</td>\n",
       "      <td>279.8</td>\n",
       "      <td>35.0</td>\n",
       "      <td>1009.0</td>\n",
       "      <td>1.36</td>\n",
       "      <td>0.0</td>\n",
       "      <td>1.36</td>\n",
       "      <td>35.36</td>\n",
       "      <td>0.00</td>\n",
       "      <td>0.0</td>\n",
       "      <td>0.0</td>\n",
       "    </tr>\n",
       "    <tr>\n",
       "      <th>2004</th>\n",
       "      <td>Alex</td>\n",
       "      <td>0</td>\n",
       "      <td>2004-08-02</td>\n",
       "      <td>TS</td>\n",
       "      <td>31.5</td>\n",
       "      <td>279.7</td>\n",
       "      <td>35.0</td>\n",
       "      <td>1007.0</td>\n",
       "      <td>1.36</td>\n",
       "      <td>0.0</td>\n",
       "      <td>1.36</td>\n",
       "      <td>35.36</td>\n",
       "      <td>0.00</td>\n",
       "      <td>0.0</td>\n",
       "      <td>0.0</td>\n",
       "    </tr>\n",
       "    <tr>\n",
       "      <th>2004</th>\n",
       "      <td>Alex</td>\n",
       "      <td>600</td>\n",
       "      <td>2004-08-02</td>\n",
       "      <td>TS</td>\n",
       "      <td>31.4</td>\n",
       "      <td>279.6</td>\n",
       "      <td>40.0</td>\n",
       "      <td>1005.0</td>\n",
       "      <td>1.78</td>\n",
       "      <td>0.0</td>\n",
       "      <td>1.78</td>\n",
       "      <td>70.36</td>\n",
       "      <td>0.00</td>\n",
       "      <td>0.0</td>\n",
       "      <td>0.0</td>\n",
       "    </tr>\n",
       "    <tr>\n",
       "      <th>2004</th>\n",
       "      <td>Alex</td>\n",
       "      <td>1200</td>\n",
       "      <td>2004-08-02</td>\n",
       "      <td>TS</td>\n",
       "      <td>31.3</td>\n",
       "      <td>280.0</td>\n",
       "      <td>50.0</td>\n",
       "      <td>992.0</td>\n",
       "      <td>2.78</td>\n",
       "      <td>0.0</td>\n",
       "      <td>2.78</td>\n",
       "      <td>66.57</td>\n",
       "      <td>21.21</td>\n",
       "      <td>0.0</td>\n",
       "      <td>0.0</td>\n",
       "    </tr>\n",
       "  </tbody>\n",
       "</table>\n",
       "</div>"
      ],
      "text/plain": [
       "     Storm_Name  Time       Date Status   Lat   Long  Max_Wind  Min_Pressure  \\\n",
       "Year                                                                           \n",
       "2004       Alex  1200 2004-08-01     TD  31.6  279.9      30.0        1009.0   \n",
       "2004       Alex  1800 2004-08-01     TS  31.6  279.8      35.0        1009.0   \n",
       "2004       Alex     0 2004-08-02     TS  31.5  279.7      35.0        1007.0   \n",
       "2004       Alex   600 2004-08-02     TS  31.4  279.6      40.0        1005.0   \n",
       "2004       Alex  1200 2004-08-02     TS  31.3  280.0      50.0         992.0   \n",
       "\n",
       "      Intensity_pts  Size_pts  Severity  eff_rad_34  eff_rad_50  eff_rad_64  \\\n",
       "Year                                                                          \n",
       "2004           1.00       0.0      1.00        0.00        0.00         0.0   \n",
       "2004           1.36       0.0      1.36       35.36        0.00         0.0   \n",
       "2004           1.36       0.0      1.36       35.36        0.00         0.0   \n",
       "2004           1.78       0.0      1.78       70.36        0.00         0.0   \n",
       "2004           2.78       0.0      2.78       66.57       21.21         0.0   \n",
       "\n",
       "      eff_rad_87  \n",
       "Year              \n",
       "2004         0.0  \n",
       "2004         0.0  \n",
       "2004         0.0  \n",
       "2004         0.0  \n",
       "2004         0.0  "
      ]
     },
     "execution_count": 34,
     "metadata": {},
     "output_type": "execute_result"
    }
   ],
   "source": [
    "hsi.head()"
   ]
  },
  {
   "cell_type": "markdown",
   "metadata": {},
   "source": [
    "## Import Sea-surface Temperature (SST) Data"
   ]
  },
  {
   "cell_type": "code",
   "execution_count": 35,
   "metadata": {},
   "outputs": [],
   "source": [
    "# import SST data\n",
    "\n",
    "# convert all netCDF4 data to dataframe\n",
    "# daily sea surface temperature from 2004 to 2020 for the northen Atlantic Ocean and Gulf of Mexico\n",
    "\n",
    "sst = xarray.open_mfdataset('SST Data/*.nc4').to_dataframe()"
   ]
  },
  {
   "cell_type": "code",
   "execution_count": 37,
   "metadata": {},
   "outputs": [],
   "source": [
    "# define function to complete the three actions above\n",
    "\n",
    "idx = pd.IndexSlice\n",
    "long_range = list(range(254,355))\n",
    "\n",
    "def clean_sst(data):\n",
    "    # drop lev from multiindex\n",
    "    data = data.droplevel(1)\n",
    "    # drop lat coordinates outside of the area of interest\n",
    "    data = data.loc[7.0:49.0]\n",
    "    # drop long coordinates out of the area of interest\n",
    "    data = data.loc[:,(long_range),:]\n",
    "    # reset the columns to a numerical index\n",
    "    data = data.reset_index()\n",
    "    # rename columns\n",
    "    data.columns = ['Lat', 'Long', 'Date', 'SST']\n",
    "    return data"
   ]
  },
  {
   "cell_type": "code",
   "execution_count": 38,
   "metadata": {},
   "outputs": [],
   "source": [
    "sst = clean_sst(sst)"
   ]
  },
  {
   "cell_type": "code",
   "execution_count": 39,
   "metadata": {},
   "outputs": [],
   "source": [
    "# round lat and long from hsi dataframe to the nearest whole number\n",
    "\n",
    "# each decimal point represents about 11.1 km\n",
    "\n",
    "hsi['Lat'] = round(hsi['Lat'])\n",
    "hsi['Long'] = round(hsi['Long'])"
   ]
  },
  {
   "cell_type": "code",
   "execution_count": 40,
   "metadata": {},
   "outputs": [
    {
     "name": "stdout",
     "output_type": "stream",
     "text": [
      "<class 'pandas.core.frame.DataFrame'>\n",
      "RangeIndex: 218484 entries, 0 to 218483\n",
      "Data columns (total 4 columns):\n",
      " #   Column  Non-Null Count   Dtype         \n",
      "---  ------  --------------   -----         \n",
      " 0   Lat     218484 non-null  float64       \n",
      " 1   Long    218484 non-null  float64       \n",
      " 2   Date    218484 non-null  datetime64[ns]\n",
      " 3   SST     166464 non-null  float32       \n",
      "dtypes: datetime64[ns](1), float32(1), float64(2)\n",
      "memory usage: 5.8 MB\n"
     ]
    }
   ],
   "source": [
    "sst.info()"
   ]
  },
  {
   "cell_type": "code",
   "execution_count": null,
   "metadata": {},
   "outputs": [],
   "source": [
    "sst['Date'] = sst['Date'].dt.strftime('%Y-%m-%d')"
   ]
  },
  {
   "cell_type": "code",
   "execution_count": null,
   "metadata": {},
   "outputs": [],
   "source": [
    "sst['Date'] = pd.to_datetime(sst['Date'])"
   ]
  },
  {
   "cell_type": "code",
   "execution_count": null,
   "metadata": {},
   "outputs": [],
   "source": [
    "sst[(sst['Date']=='2004-08-02')]"
   ]
  },
  {
   "cell_type": "markdown",
   "metadata": {},
   "source": [
    "## Combine the 2 dataframes"
   ]
  },
  {
   "cell_type": "code",
   "execution_count": null,
   "metadata": {},
   "outputs": [],
   "source": [
    "complete = hsi.merge(sst, how='left', left_on=['Date','Lat','Long'], right_on=['Date','Lat','Long'])"
   ]
  },
  {
   "cell_type": "code",
   "execution_count": null,
   "metadata": {},
   "outputs": [],
   "source": [
    "complete.head()"
   ]
  },
  {
   "cell_type": "code",
   "execution_count": null,
   "metadata": {},
   "outputs": [],
   "source": [
    "complete.info()"
   ]
  },
  {
   "cell_type": "code",
   "execution_count": null,
   "metadata": {},
   "outputs": [],
   "source": []
  },
  {
   "cell_type": "code",
   "execution_count": null,
   "metadata": {},
   "outputs": [],
   "source": []
  },
  {
   "cell_type": "code",
   "execution_count": null,
   "metadata": {},
   "outputs": [],
   "source": []
  },
  {
   "cell_type": "code",
   "execution_count": null,
   "metadata": {},
   "outputs": [],
   "source": []
  }
 ],
 "metadata": {
  "kernelspec": {
   "display_name": "Python 3",
   "language": "python",
   "name": "python3"
  },
  "language_info": {
   "codemirror_mode": {
    "name": "ipython",
    "version": 3
   },
   "file_extension": ".py",
   "mimetype": "text/x-python",
   "name": "python",
   "nbconvert_exporter": "python",
   "pygments_lexer": "ipython3",
   "version": "3.7.6"
  }
 },
 "nbformat": 4,
 "nbformat_minor": 4
}
