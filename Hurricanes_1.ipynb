{
 "cells": [
  {
   "cell_type": "code",
   "execution_count": 1,
   "metadata": {},
   "outputs": [],
   "source": [
    "# import necessary packages\n",
    "\n",
    "import pandas as pd\n",
    "import matplotlib.pyplot as plt\n",
    "import seaborn as sns\n",
    "sns.set()\n",
    "from datetime import datetime as dt\n",
    "import numpy as np\n",
    "import pandas_profiling\n",
    "import math\n",
    "import datetime as dt"
   ]
  },
  {
   "cell_type": "code",
   "execution_count": 72,
   "metadata": {},
   "outputs": [],
   "source": [
    "# import data from csv\n",
    "\n",
    "hurdat = pd.read_csv(r\"C:/Users/jacks/Documents/Springboard/hurricanes_capstone/HURDAT2 Data.csv\")"
   ]
  },
  {
   "cell_type": "code",
   "execution_count": null,
   "metadata": {},
   "outputs": [],
   "source": [
    "#hurdat.head()"
   ]
  },
  {
   "cell_type": "code",
   "execution_count": null,
   "metadata": {},
   "outputs": [],
   "source": [
    "#hurdat.shape"
   ]
  },
  {
   "cell_type": "code",
   "execution_count": null,
   "metadata": {},
   "outputs": [],
   "source": [
    "#hurdat.info()"
   ]
  },
  {
   "cell_type": "code",
   "execution_count": 73,
   "metadata": {},
   "outputs": [],
   "source": [
    "# fix date column\n",
    "\n",
    "hurdat['Date'] = pd.to_datetime(hurdat['Date'],errors='coerce',yearfirst=False)"
   ]
  },
  {
   "cell_type": "code",
   "execution_count": 71,
   "metadata": {},
   "outputs": [],
   "source": [
    "#name_col = [name.title() for name in list(hurdat['Name'].str.lstrip())]"
   ]
  },
  {
   "cell_type": "code",
   "execution_count": 74,
   "metadata": {},
   "outputs": [],
   "source": [
    "# fix the name column\n",
    "# remove whitespace and capitalize the first letter of each name\n",
    "\n",
    "name_col = [name.title() for name in list(hurdat['Name'].str.lstrip())]\n",
    "\n",
    "# create a list of names called 'new_names'\n",
    "# make each 'FALSE' the preceeding name until the next name\n",
    "\n",
    "new_names = []\n",
    "name = ''\n",
    "\n",
    "for x in name_col:\n",
    "    if x != 'False':\n",
    "        new_names.append(x)\n",
    "        name = x\n",
    "    else:\n",
    "        new_names.append(name)\n",
    "        \n",
    "# add Storm Names column\n",
    "\n",
    "hurdat['Storm_Name'] = new_names\n",
    "\n",
    "# remove the Name column\n",
    "\n",
    "hurdat.drop('Name',axis=1,inplace=True)"
   ]
  },
  {
   "cell_type": "code",
   "execution_count": 75,
   "metadata": {},
   "outputs": [],
   "source": [
    "# remove rows with excessive NaN values\n",
    "# without doing this I am unable to change the Year datatype\n",
    "\n",
    "hurdat.dropna(axis=0,thresh=10,inplace=True)"
   ]
  },
  {
   "cell_type": "code",
   "execution_count": 76,
   "metadata": {},
   "outputs": [],
   "source": [
    "# extract year from date column and create Year column as int datatype\n",
    "\n",
    "hurdat['Year'] = pd.array([i.year for i in hurdat.Date], dtype='int')"
   ]
  },
  {
   "cell_type": "code",
   "execution_count": 77,
   "metadata": {},
   "outputs": [],
   "source": [
    "# rearrange the columns\n",
    "\n",
    "hurdat = hurdat.reindex(columns = ['Year','Storm_Name','Time','Date','Status','Lat','Long','Maximum sustained wind','Minimum Pressure','34 kt radii NE','34 kt radii SE','34 kt radii SW','34 kt radii NW','50 kt radii NE','50 kt radii SE','50 kt radii SW','50 kt radii NW','64 kt radii NE','64 kt radii SE','64 kt radii SW','64 kt radii NW','87 kt radii NE (est)','87 kt radii SE (est)','87 kt radii SW (est)','87 kt radii NW (est)'])"
   ]
  },
  {
   "cell_type": "code",
   "execution_count": 78,
   "metadata": {},
   "outputs": [],
   "source": [
    "# make multi-index with Year and Storm_Name\n",
    "\n",
    "hurdat = hurdat.set_index(['Year'])\n",
    "\n",
    "# sort index by Year\n",
    "\n",
    "# hurdat = hurdat.sort_index()"
   ]
  },
  {
   "cell_type": "code",
   "execution_count": 79,
   "metadata": {},
   "outputs": [],
   "source": [
    "# change column names to names easier to work with\n",
    "\n",
    "hurdat.columns = ['Storm_Name','Time','Date', 'Status', 'Lat', 'Long', 'Max_Wind',\n",
    "       'Min_Pressure', 'ne_34_kt', 'se_34_kt',\n",
    "       'sw_34_kt', 'nw_34_kt', 'ne_50_kt', 'se_50_kt',\n",
    "       'sw_50_kt', 'nw_50_kt', 'ne_64_kt', 'se_64_kt',\n",
    "       'sw_64_kt', 'nw_64_kt', 'ne_87_kt', 'se_87_kt',\n",
    "       'sw_87_kt', 'nw_87_kt']"
   ]
  },
  {
   "cell_type": "code",
   "execution_count": 80,
   "metadata": {},
   "outputs": [
    {
     "data": {
      "text/plain": [
       "\"I know there are three storms named Bonnie and want to be sure I haven't excluded any\""
      ]
     },
     "execution_count": 80,
     "metadata": {},
     "output_type": "execute_result"
    }
   ],
   "source": [
    "# count the number of observations where the name Bonnie appears\n",
    "'''I know there are three storms named Bonnie and want to be sure I haven't excluded any'''\n",
    "\n",
    "\n",
    "# not sure if this helps... may need to use Storm_Name as multiindex\n",
    "\n",
    "#hurdat[hurdat['Storm_Name']=='Bonnie'].count()"
   ]
  },
  {
   "cell_type": "code",
   "execution_count": 29,
   "metadata": {},
   "outputs": [],
   "source": [
    "# hurdat.head(-5)"
   ]
  },
  {
   "cell_type": "code",
   "execution_count": null,
   "metadata": {},
   "outputs": [],
   "source": [
    "#cols = list(hurdat)\n",
    "#print(list(enumerate(cols)))"
   ]
  },
  {
   "cell_type": "code",
   "execution_count": null,
   "metadata": {},
   "outputs": [],
   "source": [
    "#hurdat.describe()"
   ]
  },
  {
   "cell_type": "code",
   "execution_count": 81,
   "metadata": {},
   "outputs": [],
   "source": [
    "# remove negative values from the radii\n",
    "\n",
    "hurdat['ne_34_kt'].clip(lower=0, inplace=True)\n",
    "hurdat['se_34_kt'].clip(lower=0, inplace=True)\n",
    "hurdat['sw_34_kt'].clip(lower=0, inplace=True)\n",
    "hurdat['nw_34_kt'].clip(lower=0, inplace=True)\n",
    "hurdat['ne_50_kt'].clip(lower=0, inplace=True)\n",
    "hurdat['se_50_kt'].clip(lower=0, inplace=True)\n",
    "hurdat['sw_50_kt'].clip(lower=0, inplace=True)\n",
    "hurdat['nw_50_kt'].clip(lower=0, inplace=True)\n",
    "hurdat['ne_64_kt'].clip(lower=0, inplace=True)\n",
    "hurdat['se_64_kt'].clip(lower=0, inplace=True)\n",
    "hurdat['sw_64_kt'].clip(lower=0, inplace=True)\n",
    "hurdat['nw_64_kt'].clip(lower=0, inplace=True)\n",
    "hurdat['ne_87_kt'].clip(lower=0, inplace=True)\n",
    "hurdat['se_87_kt'].clip(lower=0, inplace=True)\n",
    "hurdat['sw_87_kt'].clip(lower=0, inplace=True)\n",
    "hurdat['nw_87_kt'].clip(lower=0, inplace=True)"
   ]
  },
  {
   "cell_type": "code",
   "execution_count": 82,
   "metadata": {},
   "outputs": [],
   "source": [
    "# caluculate effective radius for each wind threshold\n",
    "# eff_rad_* function calculates the Effective Radius for the 4 wind thresholds\n",
    "# the value output is in nautical miles\n",
    "\n",
    "def eff_rad_34(x):\n",
    "    if x['Max_Wind']>=34:\n",
    "        num = (0.5*(math.sqrt((x['ne_34_kt']**2) + (x['se_34_kt']**2) + (x['sw_34_kt']**2) + (x['nw_34_kt']**2))))\n",
    "        return round(num,2)\n",
    "\n",
    "def eff_rad_50(x):\n",
    "    if x['Max_Wind']>=50:\n",
    "        num = (0.5*(math.sqrt((x['ne_50_kt']**2) + (x['se_50_kt']**2) + (x['sw_50_kt']**2) + (x['nw_50_kt']**2))))\n",
    "        return round(num,2)\n",
    "\n",
    "def eff_rad_64(x):\n",
    "    if x['Max_Wind']>=64:\n",
    "        num = (0.5*(math.sqrt((x['ne_64_kt']**2) + (x['se_64_kt']**2) + (x['sw_64_kt']**2) + (x['nw_64_kt']**2))))\n",
    "        return round(num,2)\n",
    "    \n",
    "def eff_rad_87(x):\n",
    "    if x['Max_Wind']>=87:\n",
    "        num = (0.5*(math.sqrt((x['ne_87_kt']**2) + (x['se_87_kt']**2) + (x['sw_87_kt']**2) + (x['nw_87_kt']**2))))\n",
    "        return round(num,2)"
   ]
  },
  {
   "cell_type": "code",
   "execution_count": 31,
   "metadata": {},
   "outputs": [],
   "source": [
    "# would like to combine the functions above into one\n",
    "# not sure how to apply this to create separate columns\n",
    "\n",
    "def effective_radius(i):\n",
    "    if i['Max_Wind']>=34:\n",
    "        if x['Max_Wind']>=50:\n",
    "            if x['Max_Wind']>=64:\n",
    "                if x['Max_Wind']>=87:\n",
    "                    num = (0.5*(math.sqrt((x['ne_87_kt']**2) + (x['se_87_kt']**2) + (x['sw_87_kt']**2) + (x['nw_87_kt']**2))))\n",
    "                    return round(num,2)\n",
    "                else:\n",
    "                    num = (0.5*(math.sqrt((x['ne_64_kt']**2) + (x['se_64_kt']**2) + (x['sw_64_kt']**2) + (x['nw_64_kt']**2))))\n",
    "                    return round(num,2)\n",
    "            else:\n",
    "                num = (0.5*(math.sqrt((x['ne_50_kt']**2) + (x['se_50_kt']**2) + (x['sw_50_kt']**2) + (x['nw_50_kt']**2))))\n",
    "                return round(num,2)\n",
    "        else:\n",
    "            num = (0.5*(math.sqrt((x['ne_34_kt']**2) + (x['se_34_kt']**2) + (x['sw_34_kt']**2) + (x['nw_34_kt']**2))))\n",
    "            return round(num,2)"
   ]
  },
  {
   "cell_type": "code",
   "execution_count": 83,
   "metadata": {},
   "outputs": [],
   "source": [
    "# use .apply function to create new columns\n",
    "\n",
    "hurdat['eff_rad_34']=hurdat.apply(eff_rad_34, axis=1)\n",
    "hurdat['eff_rad_50']=hurdat.apply(eff_rad_50, axis=1)\n",
    "hurdat['eff_rad_64']=hurdat.apply(eff_rad_64, axis=1)\n",
    "hurdat['eff_rad_87']=hurdat.apply(eff_rad_87, axis=1)"
   ]
  },
  {
   "cell_type": "code",
   "execution_count": 84,
   "metadata": {},
   "outputs": [],
   "source": [
    "# change NaN values in eff_rad_* columns to 0.0\n",
    "\n",
    "hurdat['eff_rad_34']=hurdat['eff_rad_34'].fillna(0.0)\n",
    "hurdat['eff_rad_50']=hurdat['eff_rad_50'].fillna(0.0)\n",
    "hurdat['eff_rad_64']=hurdat['eff_rad_64'].fillna(0.0)\n",
    "hurdat['eff_rad_87']=hurdat['eff_rad_87'].fillna(0.0)"
   ]
  },
  {
   "cell_type": "code",
   "execution_count": 85,
   "metadata": {},
   "outputs": [
    {
     "data": {
      "text/plain": [
       "2.9043142926006267"
      ]
     },
     "execution_count": 85,
     "metadata": {},
     "output_type": "execute_result"
    }
   ],
   "source": [
    "# count the number of Time observations that are not 0, 600, 1200, 1800\n",
    "\n",
    "# define list of times\n",
    "\n",
    "times = ['0','600','1200','1800']\n",
    "\n",
    "# create a list of observations not in 'times' \n",
    "\n",
    "off_times = [x for x in hurdat['Time'] if x not in times]   \n",
    "\n",
    "# find the percentage of observations with off_times\n",
    "\n",
    "(len(off_times)/len(hurdat['Time']))*100"
   ]
  },
  {
   "cell_type": "code",
   "execution_count": 86,
   "metadata": {},
   "outputs": [
    {
     "name": "stdout",
     "output_type": "stream",
     "text": [
      "93 / 241\n"
     ]
    },
    {
     "data": {
      "text/plain": [
       "38.589211618257266"
      ]
     },
     "execution_count": 86,
     "metadata": {},
     "output_type": "execute_result"
    }
   ],
   "source": [
    "# observe data for rows that are in 'off_times'\n",
    "\n",
    "off_times_df = hurdat[hurdat['Time'].isin(off_times)]\n",
    "\n",
    "\n",
    "# find the percentage of observations for err_rad_* in off_times_df are 0 or 999\n",
    "\n",
    "print(str(off_times_df[off_times_df['eff_rad_34'].isin([0.00, 999.0])].eff_rad_34.count())+' / '+str(len(off_times)))\n",
    "\n",
    "((off_times_df[off_times_df['eff_rad_34'].isin([0.00, 999.0])].eff_rad_34.count())/len(off_times))*100"
   ]
  },
  {
   "cell_type": "code",
   "execution_count": 87,
   "metadata": {},
   "outputs": [],
   "source": [
    "# a large percentage of rows that are not at 0, 600, 1200, or 1800 have erroneous data\n",
    "# remove those rows whose time is not == 0, 600, 1200, 0r 1800\n",
    "\n",
    "hurdat = hurdat[hurdat['Time'].isin(['0','600','1200','1800'])]"
   ]
  },
  {
   "cell_type": "code",
   "execution_count": null,
   "metadata": {},
   "outputs": [],
   "source": [
    "#hurdat.describe()"
   ]
  },
  {
   "cell_type": "code",
   "execution_count": 88,
   "metadata": {},
   "outputs": [],
   "source": [
    "#hurdat.head()"
   ]
  },
  {
   "cell_type": "code",
   "execution_count": 94,
   "metadata": {},
   "outputs": [
    {
     "name": "stdout",
     "output_type": "stream",
     "text": [
      "['TD' 'TS' 'HU']\n"
     ]
    }
   ],
   "source": [
    "# strip whitespace in front of statuses\n",
    "\n",
    "hurdat.Status = hurdat.Status.str.strip()\n",
    "\n",
    "# remove storms that aren't a tropical depression, tropical storm, or hurricane\n",
    "\n",
    "drop_status=['EX','WV','LO','SS','SD','DB']\n",
    "hurdat = hurdat[~hurdat['Status'].isin(drop_status)]\n",
    "print(hurdat.Status.unique())"
   ]
  },
  {
   "cell_type": "code",
   "execution_count": 95,
   "metadata": {},
   "outputs": [],
   "source": [
    "#hurdat.info()"
   ]
  },
  {
   "cell_type": "code",
   "execution_count": 91,
   "metadata": {},
   "outputs": [],
   "source": [
    "# remove the N and W from the lat and long\n",
    "\n",
    "hurdat['Lat'] = hurdat['Lat'].str.strip(to_strip='N')\n",
    "hurdat['Long'] = hurdat['Long'].str.strip(to_strip='W')"
   ]
  },
  {
   "cell_type": "code",
   "execution_count": 96,
   "metadata": {},
   "outputs": [],
   "source": [
    "# change the lat and long to numeric data\n",
    "\n",
    "hurdat['Lat'] = hurdat['Lat'].astype('float64')\n",
    "hurdat['Long'] = hurdat['Long'].astype('float64')"
   ]
  },
  {
   "cell_type": "code",
   "execution_count": 97,
   "metadata": {},
   "outputs": [
    {
     "data": {
      "text/html": [
       "<div>\n",
       "<style scoped>\n",
       "    .dataframe tbody tr th:only-of-type {\n",
       "        vertical-align: middle;\n",
       "    }\n",
       "\n",
       "    .dataframe tbody tr th {\n",
       "        vertical-align: top;\n",
       "    }\n",
       "\n",
       "    .dataframe thead th {\n",
       "        text-align: right;\n",
       "    }\n",
       "</style>\n",
       "<table border=\"1\" class=\"dataframe\">\n",
       "  <thead>\n",
       "    <tr style=\"text-align: right;\">\n",
       "      <th></th>\n",
       "      <th>Lat</th>\n",
       "      <th>Long</th>\n",
       "      <th>Max_Wind</th>\n",
       "      <th>Min_Pressure</th>\n",
       "      <th>ne_34_kt</th>\n",
       "      <th>se_34_kt</th>\n",
       "      <th>sw_34_kt</th>\n",
       "      <th>nw_34_kt</th>\n",
       "      <th>ne_50_kt</th>\n",
       "      <th>se_50_kt</th>\n",
       "      <th>...</th>\n",
       "      <th>sw_64_kt</th>\n",
       "      <th>nw_64_kt</th>\n",
       "      <th>ne_87_kt</th>\n",
       "      <th>se_87_kt</th>\n",
       "      <th>sw_87_kt</th>\n",
       "      <th>nw_87_kt</th>\n",
       "      <th>eff_rad_34</th>\n",
       "      <th>eff_rad_50</th>\n",
       "      <th>eff_rad_64</th>\n",
       "      <th>eff_rad_87</th>\n",
       "    </tr>\n",
       "  </thead>\n",
       "  <tbody>\n",
       "    <tr>\n",
       "      <th>count</th>\n",
       "      <td>5538.000000</td>\n",
       "      <td>5538.000000</td>\n",
       "      <td>5538.000000</td>\n",
       "      <td>5538.000000</td>\n",
       "      <td>5538.000000</td>\n",
       "      <td>5538.000000</td>\n",
       "      <td>5538.000000</td>\n",
       "      <td>5538.000000</td>\n",
       "      <td>5538.000000</td>\n",
       "      <td>5538.000000</td>\n",
       "      <td>...</td>\n",
       "      <td>5538.000000</td>\n",
       "      <td>5538.000000</td>\n",
       "      <td>5538.000000</td>\n",
       "      <td>5538.000000</td>\n",
       "      <td>5538.000000</td>\n",
       "      <td>5538.000000</td>\n",
       "      <td>5538.000000</td>\n",
       "      <td>5538.000000</td>\n",
       "      <td>5538.000000</td>\n",
       "      <td>5538.000000</td>\n",
       "    </tr>\n",
       "    <tr>\n",
       "      <th>mean</th>\n",
       "      <td>24.253810</td>\n",
       "      <td>62.237830</td>\n",
       "      <td>55.678043</td>\n",
       "      <td>990.046407</td>\n",
       "      <td>88.539184</td>\n",
       "      <td>78.267425</td>\n",
       "      <td>46.423799</td>\n",
       "      <td>63.369447</td>\n",
       "      <td>29.563922</td>\n",
       "      <td>26.593536</td>\n",
       "      <td>...</td>\n",
       "      <td>7.223727</td>\n",
       "      <td>8.701697</td>\n",
       "      <td>3.236462</td>\n",
       "      <td>2.721377</td>\n",
       "      <td>2.076265</td>\n",
       "      <td>2.746739</td>\n",
       "      <td>75.297347</td>\n",
       "      <td>26.045479</td>\n",
       "      <td>9.945107</td>\n",
       "      <td>2.764592</td>\n",
       "    </tr>\n",
       "    <tr>\n",
       "      <th>std</th>\n",
       "      <td>8.265535</td>\n",
       "      <td>19.813557</td>\n",
       "      <td>26.473478</td>\n",
       "      <td>20.504170</td>\n",
       "      <td>72.850303</td>\n",
       "      <td>69.462254</td>\n",
       "      <td>57.258572</td>\n",
       "      <td>63.836223</td>\n",
       "      <td>38.338770</td>\n",
       "      <td>37.277089</td>\n",
       "      <td>...</td>\n",
       "      <td>15.787897</td>\n",
       "      <td>18.257906</td>\n",
       "      <td>9.388824</td>\n",
       "      <td>8.108398</td>\n",
       "      <td>6.158071</td>\n",
       "      <td>8.015864</td>\n",
       "      <td>61.119528</td>\n",
       "      <td>33.483274</td>\n",
       "      <td>18.254421</td>\n",
       "      <td>7.988081</td>\n",
       "    </tr>\n",
       "    <tr>\n",
       "      <th>min</th>\n",
       "      <td>7.700000</td>\n",
       "      <td>6.000000</td>\n",
       "      <td>15.000000</td>\n",
       "      <td>882.000000</td>\n",
       "      <td>0.000000</td>\n",
       "      <td>0.000000</td>\n",
       "      <td>0.000000</td>\n",
       "      <td>0.000000</td>\n",
       "      <td>0.000000</td>\n",
       "      <td>0.000000</td>\n",
       "      <td>...</td>\n",
       "      <td>0.000000</td>\n",
       "      <td>0.000000</td>\n",
       "      <td>0.000000</td>\n",
       "      <td>0.000000</td>\n",
       "      <td>0.000000</td>\n",
       "      <td>0.000000</td>\n",
       "      <td>0.000000</td>\n",
       "      <td>0.000000</td>\n",
       "      <td>0.000000</td>\n",
       "      <td>0.000000</td>\n",
       "    </tr>\n",
       "    <tr>\n",
       "      <th>25%</th>\n",
       "      <td>17.125000</td>\n",
       "      <td>46.300000</td>\n",
       "      <td>35.000000</td>\n",
       "      <td>982.000000</td>\n",
       "      <td>30.000000</td>\n",
       "      <td>0.000000</td>\n",
       "      <td>0.000000</td>\n",
       "      <td>0.000000</td>\n",
       "      <td>0.000000</td>\n",
       "      <td>0.000000</td>\n",
       "      <td>...</td>\n",
       "      <td>0.000000</td>\n",
       "      <td>0.000000</td>\n",
       "      <td>0.000000</td>\n",
       "      <td>0.000000</td>\n",
       "      <td>0.000000</td>\n",
       "      <td>0.000000</td>\n",
       "      <td>31.820000</td>\n",
       "      <td>0.000000</td>\n",
       "      <td>0.000000</td>\n",
       "      <td>0.000000</td>\n",
       "    </tr>\n",
       "    <tr>\n",
       "      <th>50%</th>\n",
       "      <td>23.900000</td>\n",
       "      <td>63.100000</td>\n",
       "      <td>50.000000</td>\n",
       "      <td>997.000000</td>\n",
       "      <td>80.000000</td>\n",
       "      <td>70.000000</td>\n",
       "      <td>30.000000</td>\n",
       "      <td>50.000000</td>\n",
       "      <td>0.000000</td>\n",
       "      <td>0.000000</td>\n",
       "      <td>...</td>\n",
       "      <td>0.000000</td>\n",
       "      <td>0.000000</td>\n",
       "      <td>0.000000</td>\n",
       "      <td>0.000000</td>\n",
       "      <td>0.000000</td>\n",
       "      <td>0.000000</td>\n",
       "      <td>66.330000</td>\n",
       "      <td>10.610000</td>\n",
       "      <td>0.000000</td>\n",
       "      <td>0.000000</td>\n",
       "    </tr>\n",
       "    <tr>\n",
       "      <th>75%</th>\n",
       "      <td>30.700000</td>\n",
       "      <td>78.300000</td>\n",
       "      <td>70.000000</td>\n",
       "      <td>1005.000000</td>\n",
       "      <td>130.000000</td>\n",
       "      <td>120.000000</td>\n",
       "      <td>75.000000</td>\n",
       "      <td>100.000000</td>\n",
       "      <td>50.000000</td>\n",
       "      <td>50.000000</td>\n",
       "      <td>...</td>\n",
       "      <td>0.000000</td>\n",
       "      <td>10.000000</td>\n",
       "      <td>0.000000</td>\n",
       "      <td>0.000000</td>\n",
       "      <td>0.000000</td>\n",
       "      <td>0.000000</td>\n",
       "      <td>111.360000</td>\n",
       "      <td>45.280000</td>\n",
       "      <td>15.000000</td>\n",
       "      <td>0.000000</td>\n",
       "    </tr>\n",
       "    <tr>\n",
       "      <th>max</th>\n",
       "      <td>48.800000</td>\n",
       "      <td>105.000000</td>\n",
       "      <td>160.000000</td>\n",
       "      <td>1017.000000</td>\n",
       "      <td>480.000000</td>\n",
       "      <td>420.000000</td>\n",
       "      <td>450.000000</td>\n",
       "      <td>420.000000</td>\n",
       "      <td>220.000000</td>\n",
       "      <td>240.000000</td>\n",
       "      <td>...</td>\n",
       "      <td>150.000000</td>\n",
       "      <td>180.000000</td>\n",
       "      <td>60.498700</td>\n",
       "      <td>53.488700</td>\n",
       "      <td>43.053700</td>\n",
       "      <td>53.488700</td>\n",
       "      <td>415.090000</td>\n",
       "      <td>196.530000</td>\n",
       "      <td>117.150000</td>\n",
       "      <td>48.870000</td>\n",
       "    </tr>\n",
       "  </tbody>\n",
       "</table>\n",
       "<p>8 rows × 24 columns</p>\n",
       "</div>"
      ],
      "text/plain": [
       "               Lat         Long     Max_Wind  Min_Pressure     ne_34_kt  \\\n",
       "count  5538.000000  5538.000000  5538.000000   5538.000000  5538.000000   \n",
       "mean     24.253810    62.237830    55.678043    990.046407    88.539184   \n",
       "std       8.265535    19.813557    26.473478     20.504170    72.850303   \n",
       "min       7.700000     6.000000    15.000000    882.000000     0.000000   \n",
       "25%      17.125000    46.300000    35.000000    982.000000    30.000000   \n",
       "50%      23.900000    63.100000    50.000000    997.000000    80.000000   \n",
       "75%      30.700000    78.300000    70.000000   1005.000000   130.000000   \n",
       "max      48.800000   105.000000   160.000000   1017.000000   480.000000   \n",
       "\n",
       "          se_34_kt     sw_34_kt     nw_34_kt     ne_50_kt     se_50_kt  ...  \\\n",
       "count  5538.000000  5538.000000  5538.000000  5538.000000  5538.000000  ...   \n",
       "mean     78.267425    46.423799    63.369447    29.563922    26.593536  ...   \n",
       "std      69.462254    57.258572    63.836223    38.338770    37.277089  ...   \n",
       "min       0.000000     0.000000     0.000000     0.000000     0.000000  ...   \n",
       "25%       0.000000     0.000000     0.000000     0.000000     0.000000  ...   \n",
       "50%      70.000000    30.000000    50.000000     0.000000     0.000000  ...   \n",
       "75%     120.000000    75.000000   100.000000    50.000000    50.000000  ...   \n",
       "max     420.000000   450.000000   420.000000   220.000000   240.000000  ...   \n",
       "\n",
       "          sw_64_kt     nw_64_kt     ne_87_kt     se_87_kt     sw_87_kt  \\\n",
       "count  5538.000000  5538.000000  5538.000000  5538.000000  5538.000000   \n",
       "mean      7.223727     8.701697     3.236462     2.721377     2.076265   \n",
       "std      15.787897    18.257906     9.388824     8.108398     6.158071   \n",
       "min       0.000000     0.000000     0.000000     0.000000     0.000000   \n",
       "25%       0.000000     0.000000     0.000000     0.000000     0.000000   \n",
       "50%       0.000000     0.000000     0.000000     0.000000     0.000000   \n",
       "75%       0.000000    10.000000     0.000000     0.000000     0.000000   \n",
       "max     150.000000   180.000000    60.498700    53.488700    43.053700   \n",
       "\n",
       "          nw_87_kt   eff_rad_34   eff_rad_50   eff_rad_64   eff_rad_87  \n",
       "count  5538.000000  5538.000000  5538.000000  5538.000000  5538.000000  \n",
       "mean      2.746739    75.297347    26.045479     9.945107     2.764592  \n",
       "std       8.015864    61.119528    33.483274    18.254421     7.988081  \n",
       "min       0.000000     0.000000     0.000000     0.000000     0.000000  \n",
       "25%       0.000000    31.820000     0.000000     0.000000     0.000000  \n",
       "50%       0.000000    66.330000    10.610000     0.000000     0.000000  \n",
       "75%       0.000000   111.360000    45.280000    15.000000     0.000000  \n",
       "max      53.488700   415.090000   196.530000   117.150000    48.870000  \n",
       "\n",
       "[8 rows x 24 columns]"
      ]
     },
     "execution_count": 97,
     "metadata": {},
     "output_type": "execute_result"
    }
   ],
   "source": [
    "hurdat.describe()"
   ]
  },
  {
   "cell_type": "code",
   "execution_count": 98,
   "metadata": {},
   "outputs": [
    {
     "data": {
      "text/html": [
       "<div>\n",
       "<style scoped>\n",
       "    .dataframe tbody tr th:only-of-type {\n",
       "        vertical-align: middle;\n",
       "    }\n",
       "\n",
       "    .dataframe tbody tr th {\n",
       "        vertical-align: top;\n",
       "    }\n",
       "\n",
       "    .dataframe thead th {\n",
       "        text-align: right;\n",
       "    }\n",
       "</style>\n",
       "<table border=\"1\" class=\"dataframe\">\n",
       "  <thead>\n",
       "    <tr style=\"text-align: right;\">\n",
       "      <th></th>\n",
       "      <th>Storm_Name</th>\n",
       "      <th>Time</th>\n",
       "      <th>Date</th>\n",
       "      <th>Status</th>\n",
       "      <th>Lat</th>\n",
       "      <th>Long</th>\n",
       "      <th>Max_Wind</th>\n",
       "      <th>Min_Pressure</th>\n",
       "      <th>ne_34_kt</th>\n",
       "      <th>se_34_kt</th>\n",
       "      <th>...</th>\n",
       "      <th>sw_64_kt</th>\n",
       "      <th>nw_64_kt</th>\n",
       "      <th>ne_87_kt</th>\n",
       "      <th>se_87_kt</th>\n",
       "      <th>sw_87_kt</th>\n",
       "      <th>nw_87_kt</th>\n",
       "      <th>eff_rad_34</th>\n",
       "      <th>eff_rad_50</th>\n",
       "      <th>eff_rad_64</th>\n",
       "      <th>eff_rad_87</th>\n",
       "    </tr>\n",
       "    <tr>\n",
       "      <th>Year</th>\n",
       "      <th></th>\n",
       "      <th></th>\n",
       "      <th></th>\n",
       "      <th></th>\n",
       "      <th></th>\n",
       "      <th></th>\n",
       "      <th></th>\n",
       "      <th></th>\n",
       "      <th></th>\n",
       "      <th></th>\n",
       "      <th></th>\n",
       "      <th></th>\n",
       "      <th></th>\n",
       "      <th></th>\n",
       "      <th></th>\n",
       "      <th></th>\n",
       "      <th></th>\n",
       "      <th></th>\n",
       "      <th></th>\n",
       "      <th></th>\n",
       "      <th></th>\n",
       "    </tr>\n",
       "  </thead>\n",
       "  <tbody>\n",
       "    <tr>\n",
       "      <th>2004</th>\n",
       "      <td>Alex</td>\n",
       "      <td>1800</td>\n",
       "      <td>2004-07-31</td>\n",
       "      <td>TD</td>\n",
       "      <td>30.3</td>\n",
       "      <td>78.3</td>\n",
       "      <td>25.0</td>\n",
       "      <td>1010.0</td>\n",
       "      <td>0.0</td>\n",
       "      <td>0.0</td>\n",
       "      <td>...</td>\n",
       "      <td>0.0</td>\n",
       "      <td>0.0</td>\n",
       "      <td>0.0</td>\n",
       "      <td>0.0</td>\n",
       "      <td>0.0</td>\n",
       "      <td>0.0</td>\n",
       "      <td>0.00</td>\n",
       "      <td>0.0</td>\n",
       "      <td>0.0</td>\n",
       "      <td>0.0</td>\n",
       "    </tr>\n",
       "    <tr>\n",
       "      <th>2004</th>\n",
       "      <td>Alex</td>\n",
       "      <td>0</td>\n",
       "      <td>2004-08-01</td>\n",
       "      <td>TD</td>\n",
       "      <td>31.0</td>\n",
       "      <td>78.8</td>\n",
       "      <td>25.0</td>\n",
       "      <td>1009.0</td>\n",
       "      <td>0.0</td>\n",
       "      <td>0.0</td>\n",
       "      <td>...</td>\n",
       "      <td>0.0</td>\n",
       "      <td>0.0</td>\n",
       "      <td>0.0</td>\n",
       "      <td>0.0</td>\n",
       "      <td>0.0</td>\n",
       "      <td>0.0</td>\n",
       "      <td>0.00</td>\n",
       "      <td>0.0</td>\n",
       "      <td>0.0</td>\n",
       "      <td>0.0</td>\n",
       "    </tr>\n",
       "    <tr>\n",
       "      <th>2004</th>\n",
       "      <td>Alex</td>\n",
       "      <td>600</td>\n",
       "      <td>2004-08-01</td>\n",
       "      <td>TD</td>\n",
       "      <td>31.5</td>\n",
       "      <td>79.0</td>\n",
       "      <td>25.0</td>\n",
       "      <td>1009.0</td>\n",
       "      <td>0.0</td>\n",
       "      <td>0.0</td>\n",
       "      <td>...</td>\n",
       "      <td>0.0</td>\n",
       "      <td>0.0</td>\n",
       "      <td>0.0</td>\n",
       "      <td>0.0</td>\n",
       "      <td>0.0</td>\n",
       "      <td>0.0</td>\n",
       "      <td>0.00</td>\n",
       "      <td>0.0</td>\n",
       "      <td>0.0</td>\n",
       "      <td>0.0</td>\n",
       "    </tr>\n",
       "    <tr>\n",
       "      <th>2004</th>\n",
       "      <td>Alex</td>\n",
       "      <td>1200</td>\n",
       "      <td>2004-08-01</td>\n",
       "      <td>TD</td>\n",
       "      <td>31.6</td>\n",
       "      <td>79.1</td>\n",
       "      <td>30.0</td>\n",
       "      <td>1009.0</td>\n",
       "      <td>0.0</td>\n",
       "      <td>0.0</td>\n",
       "      <td>...</td>\n",
       "      <td>0.0</td>\n",
       "      <td>0.0</td>\n",
       "      <td>0.0</td>\n",
       "      <td>0.0</td>\n",
       "      <td>0.0</td>\n",
       "      <td>0.0</td>\n",
       "      <td>0.00</td>\n",
       "      <td>0.0</td>\n",
       "      <td>0.0</td>\n",
       "      <td>0.0</td>\n",
       "    </tr>\n",
       "    <tr>\n",
       "      <th>2004</th>\n",
       "      <td>Alex</td>\n",
       "      <td>1800</td>\n",
       "      <td>2004-08-01</td>\n",
       "      <td>TS</td>\n",
       "      <td>31.6</td>\n",
       "      <td>79.2</td>\n",
       "      <td>35.0</td>\n",
       "      <td>1009.0</td>\n",
       "      <td>0.0</td>\n",
       "      <td>50.0</td>\n",
       "      <td>...</td>\n",
       "      <td>0.0</td>\n",
       "      <td>0.0</td>\n",
       "      <td>0.0</td>\n",
       "      <td>0.0</td>\n",
       "      <td>0.0</td>\n",
       "      <td>0.0</td>\n",
       "      <td>35.36</td>\n",
       "      <td>0.0</td>\n",
       "      <td>0.0</td>\n",
       "      <td>0.0</td>\n",
       "    </tr>\n",
       "  </tbody>\n",
       "</table>\n",
       "<p>5 rows × 28 columns</p>\n",
       "</div>"
      ],
      "text/plain": [
       "     Storm_Name  Time       Date Status   Lat  Long  Max_Wind  Min_Pressure  \\\n",
       "Year                                                                          \n",
       "2004       Alex  1800 2004-07-31     TD  30.3  78.3      25.0        1010.0   \n",
       "2004       Alex     0 2004-08-01     TD  31.0  78.8      25.0        1009.0   \n",
       "2004       Alex   600 2004-08-01     TD  31.5  79.0      25.0        1009.0   \n",
       "2004       Alex  1200 2004-08-01     TD  31.6  79.1      30.0        1009.0   \n",
       "2004       Alex  1800 2004-08-01     TS  31.6  79.2      35.0        1009.0   \n",
       "\n",
       "      ne_34_kt  se_34_kt  ...  sw_64_kt  nw_64_kt  ne_87_kt  se_87_kt  \\\n",
       "Year                      ...                                           \n",
       "2004       0.0       0.0  ...       0.0       0.0       0.0       0.0   \n",
       "2004       0.0       0.0  ...       0.0       0.0       0.0       0.0   \n",
       "2004       0.0       0.0  ...       0.0       0.0       0.0       0.0   \n",
       "2004       0.0       0.0  ...       0.0       0.0       0.0       0.0   \n",
       "2004       0.0      50.0  ...       0.0       0.0       0.0       0.0   \n",
       "\n",
       "      sw_87_kt  nw_87_kt  eff_rad_34  eff_rad_50  eff_rad_64  eff_rad_87  \n",
       "Year                                                                      \n",
       "2004       0.0       0.0        0.00         0.0         0.0         0.0  \n",
       "2004       0.0       0.0        0.00         0.0         0.0         0.0  \n",
       "2004       0.0       0.0        0.00         0.0         0.0         0.0  \n",
       "2004       0.0       0.0        0.00         0.0         0.0         0.0  \n",
       "2004       0.0       0.0       35.36         0.0         0.0         0.0  \n",
       "\n",
       "[5 rows x 28 columns]"
      ]
     },
     "execution_count": 98,
     "metadata": {},
     "output_type": "execute_result"
    }
   ],
   "source": [
    "hurdat.head()"
   ]
  },
  {
   "cell_type": "code",
   "execution_count": null,
   "metadata": {},
   "outputs": [],
   "source": []
  },
  {
   "cell_type": "code",
   "execution_count": null,
   "metadata": {},
   "outputs": [],
   "source": [
    "# find the earliest and latest storm each year\n"
   ]
  },
  {
   "cell_type": "code",
   "execution_count": null,
   "metadata": {},
   "outputs": [],
   "source": [
    "hurdat['Date']"
   ]
  },
  {
   "cell_type": "code",
   "execution_count": null,
   "metadata": {},
   "outputs": [],
   "source": []
  },
  {
   "cell_type": "code",
   "execution_count": null,
   "metadata": {},
   "outputs": [],
   "source": []
  },
  {
   "cell_type": "code",
   "execution_count": null,
   "metadata": {},
   "outputs": [],
   "source": []
  },
  {
   "cell_type": "code",
   "execution_count": null,
   "metadata": {},
   "outputs": [],
   "source": []
  },
  {
   "cell_type": "code",
   "execution_count": null,
   "metadata": {},
   "outputs": [],
   "source": []
  },
  {
   "cell_type": "code",
   "execution_count": null,
   "metadata": {},
   "outputs": [],
   "source": []
  },
  {
   "cell_type": "code",
   "execution_count": null,
   "metadata": {},
   "outputs": [],
   "source": []
  },
  {
   "cell_type": "code",
   "execution_count": null,
   "metadata": {},
   "outputs": [],
   "source": []
  },
  {
   "cell_type": "code",
   "execution_count": null,
   "metadata": {},
   "outputs": [],
   "source": []
  },
  {
   "cell_type": "markdown",
   "metadata": {},
   "source": [
    "# Use the qualitative data\n",
    "\n",
    "### How many total storms?\n",
    "### How many storms of each category (TD, TS, H)?\n",
    "### Make a histogram\n",
    "### Break down of storms by year\n",
    "### Break down of storms by month\n",
    "### Make another histogram\n",
    "### What were the earliest and latest storms?\n",
    "### What is the average date of the earliest and latest storms?"
   ]
  },
  {
   "cell_type": "code",
   "execution_count": null,
   "metadata": {},
   "outputs": [],
   "source": [
    "# find the number of years\n",
    "\n",
    "len(hurdat.groupby(level=0))"
   ]
  },
  {
   "cell_type": "code",
   "execution_count": null,
   "metadata": {},
   "outputs": [],
   "source": [
    "# find number of storms\n",
    "\n",
    "hurdat.index.to_series().nunique()"
   ]
  },
  {
   "cell_type": "code",
   "execution_count": null,
   "metadata": {
    "scrolled": true
   },
   "outputs": [],
   "source": [
    "# find the number of storms per year\n",
    "'''\n",
    "Is this the number of storms, or the number of unique names? Remember Bonnie appears in 2004, 2010, and 2016. \n",
    "Therefore Bonnie might count as one unique name while it should count for three storms.\n",
    "'''\n",
    "\n",
    "for year in range(2004,2020):\n",
    "    print('For the year '+str(year)+' there were '+str(len(hurdat.loc[year].groupby(level=0)))+' total storms')"
   ]
  },
  {
   "cell_type": "code",
   "execution_count": null,
   "metadata": {},
   "outputs": [],
   "source": [
    "# def function to find total storms per year\n",
    "\n",
    "def storms_per_year(df):\n",
    "    if year in range(2004,2020):\n",
    "        return year,len(df.loc[year].groupby(level=0))"
   ]
  },
  {
   "cell_type": "code",
   "execution_count": null,
   "metadata": {},
   "outputs": [],
   "source": [
    "hurdat.head()"
   ]
  },
  {
   "cell_type": "code",
   "execution_count": null,
   "metadata": {},
   "outputs": [],
   "source": [
    "# find the earliest and latest date of each storm\n",
    "\n",
    "date_formed = []\n",
    "date_ended = []\n",
    "num = 0\n",
    "for i in names:\n",
    "    if i == names[num]:\n",
    "        date_formed.append(min(hurdat[hurdat.index == names[num]].Date))\n",
    "        date_ended.append(max(hurdat[hurdat.index == names[num]].Date))\n",
    "        num+=1"
   ]
  },
  {
   "cell_type": "code",
   "execution_count": null,
   "metadata": {},
   "outputs": [],
   "source": [
    "# find the maximum wind of each storm\n",
    "\n",
    "max_wind = []\n",
    "num = 0\n",
    "for i in names:\n",
    "    if i == names[num]:\n",
    "        max_wind.append(max(hurdat[hurdat.index == names[num]].Max_Wind))\n",
    "        num+=1"
   ]
  },
  {
   "cell_type": "code",
   "execution_count": null,
   "metadata": {},
   "outputs": [],
   "source": [
    "# find maximum status of each storm\n",
    "\n",
    "status = []\n",
    "num = 0\n",
    "for i in names:\n",
    "    if i == names[num]:\n",
    "        if max(hurdat[hurdat.index == names[num]].Max_Wind)<34:\n",
    "            status.append('TD')\n",
    "        elif max(hurdat[hurdat.index == names[num]].Max_Wind)>=34 and max(hurdat[hurdat.index == names[num]].Max_Wind)<=63:\n",
    "            status.append('TS')\n",
    "        elif max(hurdat[hurdat.index == names[num]].Max_Wind)>63:\n",
    "            status.append('HU')\n",
    "        num+=1"
   ]
  },
  {
   "cell_type": "code",
   "execution_count": null,
   "metadata": {
    "scrolled": true
   },
   "outputs": [],
   "source": [
    "# create a dataframe with the lists created above\n",
    "\n",
    "hurricanes = pd.DataFrame(list(zip(status, max_wind, date_formed, date_ended)), index=names, columns=['status', 'max_wind', 'date_formed', 'end_date'])"
   ]
  },
  {
   "cell_type": "code",
   "execution_count": null,
   "metadata": {},
   "outputs": [],
   "source": [
    "hurricanes"
   ]
  },
  {
   "cell_type": "code",
   "execution_count": null,
   "metadata": {},
   "outputs": [],
   "source": [
    "# export hurricanes\n",
    "\n",
    "hurricanes.to_csv('hurricanes_min_data', index=True)"
   ]
  },
  {
   "cell_type": "code",
   "execution_count": null,
   "metadata": {},
   "outputs": [],
   "source": [
    "# count the number of storms in each category\n",
    "\n"
   ]
  },
  {
   "cell_type": "code",
   "execution_count": null,
   "metadata": {},
   "outputs": [],
   "source": [
    "# find the percentage of each storm category overall and per year\n",
    "\n"
   ]
  },
  {
   "cell_type": "code",
   "execution_count": null,
   "metadata": {},
   "outputs": [],
   "source": [
    "# find the average max wind for hurricanes for each year\n",
    "\n"
   ]
  },
  {
   "cell_type": "code",
   "execution_count": null,
   "metadata": {},
   "outputs": [],
   "source": []
  },
  {
   "cell_type": "code",
   "execution_count": null,
   "metadata": {},
   "outputs": [],
   "source": [
    "# pd.set_option('display.max_rows',None)"
   ]
  },
  {
   "cell_type": "code",
   "execution_count": null,
   "metadata": {},
   "outputs": [],
   "source": [
    "# pandas_profiling.ProfileReport(hurdat)"
   ]
  }
 ],
 "metadata": {
  "kernelspec": {
   "display_name": "Python 3",
   "language": "python",
   "name": "python3"
  },
  "language_info": {
   "codemirror_mode": {
    "name": "ipython",
    "version": 3
   },
   "file_extension": ".py",
   "mimetype": "text/x-python",
   "name": "python",
   "nbconvert_exporter": "python",
   "pygments_lexer": "ipython3",
   "version": "3.7.6"
  }
 },
 "nbformat": 4,
 "nbformat_minor": 4
}
